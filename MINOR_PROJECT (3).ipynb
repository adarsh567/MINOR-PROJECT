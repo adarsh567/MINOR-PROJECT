{
  "nbformat": 4,
  "nbformat_minor": 0,
  "metadata": {
    "colab": {
      "name": "MINOR PROJECT.ipynb",
      "provenance": [],
      "collapsed_sections": []
    },
    "kernelspec": {
      "name": "python3",
      "display_name": "Python 3"
    },
    "accelerator": "GPU"
  },
  "cells": [
    {
      "cell_type": "markdown",
      "metadata": {
        "id": "XVpF-3dC9da5"
      },
      "source": [
        "IMPORTING LIBRARIES"
      ]
    },
    {
      "cell_type": "code",
      "metadata": {
        "id": "_8NPk86t6JQU"
      },
      "source": [
        "import pandas as pd\n",
        "import numpy as np\n",
        "import matplotlib as plt"
      ],
      "execution_count": null,
      "outputs": []
    },
    {
      "cell_type": "markdown",
      "metadata": {
        "id": "zRI1hMDn9KGX"
      },
      "source": [
        "READING DATA FROM .CSV FILE"
      ]
    },
    {
      "cell_type": "code",
      "metadata": {
        "id": "97jv9cMW8pgz"
      },
      "source": [
        "df = pd.read_csv('/content/eighthr.csv')"
      ],
      "execution_count": null,
      "outputs": []
    },
    {
      "cell_type": "markdown",
      "metadata": {
        "id": "WaQzSkPQ-Wcr"
      },
      "source": [
        "DATA PREPROCESSING"
      ]
    },
    {
      "cell_type": "code",
      "metadata": {
        "id": "-KynIuvK9TWX",
        "colab": {
          "base_uri": "https://localhost:8080/",
          "height": 240
        },
        "outputId": "d8e899da-d130-4b7d-83fb-c68185c91622"
      },
      "source": [
        "print(df.shape)\n",
        "df.head()"
      ],
      "execution_count": null,
      "outputs": [
        {
          "output_type": "stream",
          "text": [
            "(2534, 74)\n"
          ],
          "name": "stdout"
        },
        {
          "output_type": "execute_result",
          "data": {
            "text/html": [
              "<div>\n",
              "<style scoped>\n",
              "    .dataframe tbody tr th:only-of-type {\n",
              "        vertical-align: middle;\n",
              "    }\n",
              "\n",
              "    .dataframe tbody tr th {\n",
              "        vertical-align: top;\n",
              "    }\n",
              "\n",
              "    .dataframe thead th {\n",
              "        text-align: right;\n",
              "    }\n",
              "</style>\n",
              "<table border=\"1\" class=\"dataframe\">\n",
              "  <thead>\n",
              "    <tr style=\"text-align: right;\">\n",
              "      <th></th>\n",
              "      <th>Date</th>\n",
              "      <th>WSR0</th>\n",
              "      <th>WSR1</th>\n",
              "      <th>WSR2</th>\n",
              "      <th>WSR3</th>\n",
              "      <th>WSR4</th>\n",
              "      <th>WSR5</th>\n",
              "      <th>WSR6</th>\n",
              "      <th>WSR7</th>\n",
              "      <th>WSR8</th>\n",
              "      <th>WSR9</th>\n",
              "      <th>WSR10</th>\n",
              "      <th>WSR11</th>\n",
              "      <th>WSR12</th>\n",
              "      <th>WSR13</th>\n",
              "      <th>WSR14</th>\n",
              "      <th>WSR15</th>\n",
              "      <th>WSR16</th>\n",
              "      <th>WSR17</th>\n",
              "      <th>WSR18</th>\n",
              "      <th>WSR19</th>\n",
              "      <th>WSR20</th>\n",
              "      <th>WSR21</th>\n",
              "      <th>WSR22</th>\n",
              "      <th>WSR23</th>\n",
              "      <th>WSR_PK</th>\n",
              "      <th>WSR_AV</th>\n",
              "      <th>T0</th>\n",
              "      <th>T1</th>\n",
              "      <th>T2</th>\n",
              "      <th>T3</th>\n",
              "      <th>T4</th>\n",
              "      <th>T5</th>\n",
              "      <th>T6</th>\n",
              "      <th>T7</th>\n",
              "      <th>T8</th>\n",
              "      <th>T9</th>\n",
              "      <th>T10</th>\n",
              "      <th>T11</th>\n",
              "      <th>T12</th>\n",
              "      <th>T13</th>\n",
              "      <th>T14</th>\n",
              "      <th>T15</th>\n",
              "      <th>T16</th>\n",
              "      <th>T17</th>\n",
              "      <th>T18</th>\n",
              "      <th>T19</th>\n",
              "      <th>T20</th>\n",
              "      <th>T21</th>\n",
              "      <th>T22</th>\n",
              "      <th>T23</th>\n",
              "      <th>T_PK</th>\n",
              "      <th>T_AV</th>\n",
              "      <th>T85</th>\n",
              "      <th>RH85</th>\n",
              "      <th>U85</th>\n",
              "      <th>V85</th>\n",
              "      <th>HT85</th>\n",
              "      <th>T70</th>\n",
              "      <th>RH70</th>\n",
              "      <th>U70</th>\n",
              "      <th>V70</th>\n",
              "      <th>HT70</th>\n",
              "      <th>T50</th>\n",
              "      <th>RH50</th>\n",
              "      <th>U50</th>\n",
              "      <th>V50</th>\n",
              "      <th>HT50</th>\n",
              "      <th>KI</th>\n",
              "      <th>TT</th>\n",
              "      <th>SLP</th>\n",
              "      <th>SLP_</th>\n",
              "      <th>Precp</th>\n",
              "      <th>Result</th>\n",
              "    </tr>\n",
              "  </thead>\n",
              "  <tbody>\n",
              "    <tr>\n",
              "      <th>0</th>\n",
              "      <td>1/1/1998</td>\n",
              "      <td>0.8</td>\n",
              "      <td>1.8</td>\n",
              "      <td>2.4</td>\n",
              "      <td>2.1</td>\n",
              "      <td>2</td>\n",
              "      <td>2.1</td>\n",
              "      <td>1.5</td>\n",
              "      <td>1.7</td>\n",
              "      <td>1.9</td>\n",
              "      <td>2.3</td>\n",
              "      <td>3.7</td>\n",
              "      <td>5.5</td>\n",
              "      <td>5.1</td>\n",
              "      <td>5.4</td>\n",
              "      <td>5.4</td>\n",
              "      <td>4.7</td>\n",
              "      <td>4.3</td>\n",
              "      <td>3.5</td>\n",
              "      <td>3.5</td>\n",
              "      <td>2.9</td>\n",
              "      <td>3.2</td>\n",
              "      <td>3.2</td>\n",
              "      <td>2.8</td>\n",
              "      <td>2.6</td>\n",
              "      <td>5.5</td>\n",
              "      <td>3.1</td>\n",
              "      <td>5.2</td>\n",
              "      <td>6.1</td>\n",
              "      <td>6.1</td>\n",
              "      <td>6.1</td>\n",
              "      <td>6.1</td>\n",
              "      <td>5.6</td>\n",
              "      <td>5.2</td>\n",
              "      <td>5.4</td>\n",
              "      <td>7.2</td>\n",
              "      <td>10.6</td>\n",
              "      <td>14.5</td>\n",
              "      <td>17.2</td>\n",
              "      <td>18.3</td>\n",
              "      <td>18.9</td>\n",
              "      <td>19.1</td>\n",
              "      <td>18.9</td>\n",
              "      <td>18.3</td>\n",
              "      <td>17.3</td>\n",
              "      <td>16.8</td>\n",
              "      <td>16.1</td>\n",
              "      <td>15.4</td>\n",
              "      <td>14.9</td>\n",
              "      <td>14.8</td>\n",
              "      <td>15</td>\n",
              "      <td>19.1</td>\n",
              "      <td>12.5</td>\n",
              "      <td>6.7</td>\n",
              "      <td>0.11</td>\n",
              "      <td>3.83</td>\n",
              "      <td>0.14</td>\n",
              "      <td>1612</td>\n",
              "      <td>-2.3</td>\n",
              "      <td>0.3</td>\n",
              "      <td>7.18</td>\n",
              "      <td>0.12</td>\n",
              "      <td>3178.5</td>\n",
              "      <td>-15.5</td>\n",
              "      <td>0.15</td>\n",
              "      <td>10.67</td>\n",
              "      <td>-1.56</td>\n",
              "      <td>5795</td>\n",
              "      <td>-12.1</td>\n",
              "      <td>17.9</td>\n",
              "      <td>10330</td>\n",
              "      <td>-55</td>\n",
              "      <td>0</td>\n",
              "      <td>0</td>\n",
              "    </tr>\n",
              "    <tr>\n",
              "      <th>1</th>\n",
              "      <td>1/2/1998</td>\n",
              "      <td>2.8</td>\n",
              "      <td>3.2</td>\n",
              "      <td>3.3</td>\n",
              "      <td>2.7</td>\n",
              "      <td>3.3</td>\n",
              "      <td>3.2</td>\n",
              "      <td>2.9</td>\n",
              "      <td>2.8</td>\n",
              "      <td>3.1</td>\n",
              "      <td>3.4</td>\n",
              "      <td>4.2</td>\n",
              "      <td>4.5</td>\n",
              "      <td>4.5</td>\n",
              "      <td>4.3</td>\n",
              "      <td>5.5</td>\n",
              "      <td>5.1</td>\n",
              "      <td>3.8</td>\n",
              "      <td>3</td>\n",
              "      <td>2.6</td>\n",
              "      <td>3</td>\n",
              "      <td>2.2</td>\n",
              "      <td>2.3</td>\n",
              "      <td>2.5</td>\n",
              "      <td>2.8</td>\n",
              "      <td>5.5</td>\n",
              "      <td>3.4</td>\n",
              "      <td>15.1</td>\n",
              "      <td>15.3</td>\n",
              "      <td>15.6</td>\n",
              "      <td>15.6</td>\n",
              "      <td>15.9</td>\n",
              "      <td>16.2</td>\n",
              "      <td>16.2</td>\n",
              "      <td>16.2</td>\n",
              "      <td>16.6</td>\n",
              "      <td>17.8</td>\n",
              "      <td>19.4</td>\n",
              "      <td>20.6</td>\n",
              "      <td>21.2</td>\n",
              "      <td>21.8</td>\n",
              "      <td>22.4</td>\n",
              "      <td>22.1</td>\n",
              "      <td>20.8</td>\n",
              "      <td>19.1</td>\n",
              "      <td>18.1</td>\n",
              "      <td>17.2</td>\n",
              "      <td>16.5</td>\n",
              "      <td>16.1</td>\n",
              "      <td>16</td>\n",
              "      <td>16.2</td>\n",
              "      <td>22.4</td>\n",
              "      <td>17.8</td>\n",
              "      <td>9</td>\n",
              "      <td>0.25</td>\n",
              "      <td>-0.41</td>\n",
              "      <td>9.53</td>\n",
              "      <td>1594.5</td>\n",
              "      <td>-2.2</td>\n",
              "      <td>0.96</td>\n",
              "      <td>8.24</td>\n",
              "      <td>7.3</td>\n",
              "      <td>3172</td>\n",
              "      <td>-14.5</td>\n",
              "      <td>0.48</td>\n",
              "      <td>8.39</td>\n",
              "      <td>3.84</td>\n",
              "      <td>5805</td>\n",
              "      <td>14.05</td>\n",
              "      <td>29</td>\n",
              "      <td>10275</td>\n",
              "      <td>-55</td>\n",
              "      <td>0</td>\n",
              "      <td>0</td>\n",
              "    </tr>\n",
              "    <tr>\n",
              "      <th>2</th>\n",
              "      <td>1/3/1998</td>\n",
              "      <td>2.9</td>\n",
              "      <td>2.8</td>\n",
              "      <td>2.6</td>\n",
              "      <td>2.1</td>\n",
              "      <td>2.2</td>\n",
              "      <td>2.5</td>\n",
              "      <td>2.5</td>\n",
              "      <td>2.7</td>\n",
              "      <td>2.2</td>\n",
              "      <td>2.5</td>\n",
              "      <td>3.1</td>\n",
              "      <td>4</td>\n",
              "      <td>4.4</td>\n",
              "      <td>4.6</td>\n",
              "      <td>5.6</td>\n",
              "      <td>5.4</td>\n",
              "      <td>5.2</td>\n",
              "      <td>4.4</td>\n",
              "      <td>3.5</td>\n",
              "      <td>2.7</td>\n",
              "      <td>2.9</td>\n",
              "      <td>3.9</td>\n",
              "      <td>4.1</td>\n",
              "      <td>4.6</td>\n",
              "      <td>5.6</td>\n",
              "      <td>3.5</td>\n",
              "      <td>16.6</td>\n",
              "      <td>16.7</td>\n",
              "      <td>16.7</td>\n",
              "      <td>16.8</td>\n",
              "      <td>16.8</td>\n",
              "      <td>16.8</td>\n",
              "      <td>16.9</td>\n",
              "      <td>16.9</td>\n",
              "      <td>17.1</td>\n",
              "      <td>17.6</td>\n",
              "      <td>19.1</td>\n",
              "      <td>21.3</td>\n",
              "      <td>21.8</td>\n",
              "      <td>22</td>\n",
              "      <td>22.1</td>\n",
              "      <td>22.2</td>\n",
              "      <td>21.3</td>\n",
              "      <td>19.8</td>\n",
              "      <td>18.6</td>\n",
              "      <td>18</td>\n",
              "      <td>18</td>\n",
              "      <td>18.2</td>\n",
              "      <td>18.3</td>\n",
              "      <td>18.4</td>\n",
              "      <td>22.2</td>\n",
              "      <td>18.7</td>\n",
              "      <td>9</td>\n",
              "      <td>0.56</td>\n",
              "      <td>0.89</td>\n",
              "      <td>10.17</td>\n",
              "      <td>1568.5</td>\n",
              "      <td>0.9</td>\n",
              "      <td>0.54</td>\n",
              "      <td>3.8</td>\n",
              "      <td>4.42</td>\n",
              "      <td>3160</td>\n",
              "      <td>-15.9</td>\n",
              "      <td>0.6</td>\n",
              "      <td>6.94</td>\n",
              "      <td>9.8</td>\n",
              "      <td>5790</td>\n",
              "      <td>17.9</td>\n",
              "      <td>41.3</td>\n",
              "      <td>10235</td>\n",
              "      <td>-40</td>\n",
              "      <td>0</td>\n",
              "      <td>0</td>\n",
              "    </tr>\n",
              "    <tr>\n",
              "      <th>3</th>\n",
              "      <td>1/4/1998</td>\n",
              "      <td>4.7</td>\n",
              "      <td>3.8</td>\n",
              "      <td>3.7</td>\n",
              "      <td>3.8</td>\n",
              "      <td>2.9</td>\n",
              "      <td>3.1</td>\n",
              "      <td>2.8</td>\n",
              "      <td>2.5</td>\n",
              "      <td>2.4</td>\n",
              "      <td>3.1</td>\n",
              "      <td>3.3</td>\n",
              "      <td>3.1</td>\n",
              "      <td>2.3</td>\n",
              "      <td>2.1</td>\n",
              "      <td>2.2</td>\n",
              "      <td>3.8</td>\n",
              "      <td>2.8</td>\n",
              "      <td>2.4</td>\n",
              "      <td>1.9</td>\n",
              "      <td>3.2</td>\n",
              "      <td>4.1</td>\n",
              "      <td>3.9</td>\n",
              "      <td>4.5</td>\n",
              "      <td>4.3</td>\n",
              "      <td>4.7</td>\n",
              "      <td>3.2</td>\n",
              "      <td>18.3</td>\n",
              "      <td>18.2</td>\n",
              "      <td>18.3</td>\n",
              "      <td>18.4</td>\n",
              "      <td>18.6</td>\n",
              "      <td>18.6</td>\n",
              "      <td>18.5</td>\n",
              "      <td>18.7</td>\n",
              "      <td>18.6</td>\n",
              "      <td>18.8</td>\n",
              "      <td>19</td>\n",
              "      <td>19</td>\n",
              "      <td>19.3</td>\n",
              "      <td>19.4</td>\n",
              "      <td>19.6</td>\n",
              "      <td>19.2</td>\n",
              "      <td>18.9</td>\n",
              "      <td>18.8</td>\n",
              "      <td>18.6</td>\n",
              "      <td>18.5</td>\n",
              "      <td>18.3</td>\n",
              "      <td>18.5</td>\n",
              "      <td>18.8</td>\n",
              "      <td>18.9</td>\n",
              "      <td>19.6</td>\n",
              "      <td>18.7</td>\n",
              "      <td>9.9</td>\n",
              "      <td>0.89</td>\n",
              "      <td>-0.34</td>\n",
              "      <td>8.58</td>\n",
              "      <td>1546.5</td>\n",
              "      <td>3</td>\n",
              "      <td>0.77</td>\n",
              "      <td>4.17</td>\n",
              "      <td>8.11</td>\n",
              "      <td>3145.5</td>\n",
              "      <td>-16.8</td>\n",
              "      <td>0.49</td>\n",
              "      <td>8.73</td>\n",
              "      <td>10.54</td>\n",
              "      <td>5775</td>\n",
              "      <td>31.15</td>\n",
              "      <td>51.7</td>\n",
              "      <td>10195</td>\n",
              "      <td>-40</td>\n",
              "      <td>2.08</td>\n",
              "      <td>0</td>\n",
              "    </tr>\n",
              "    <tr>\n",
              "      <th>4</th>\n",
              "      <td>1/5/1998</td>\n",
              "      <td>2.6</td>\n",
              "      <td>2.1</td>\n",
              "      <td>1.6</td>\n",
              "      <td>1.4</td>\n",
              "      <td>0.9</td>\n",
              "      <td>1.5</td>\n",
              "      <td>1.2</td>\n",
              "      <td>1.4</td>\n",
              "      <td>1.3</td>\n",
              "      <td>1.4</td>\n",
              "      <td>2.2</td>\n",
              "      <td>2</td>\n",
              "      <td>3</td>\n",
              "      <td>3</td>\n",
              "      <td>3.1</td>\n",
              "      <td>3.1</td>\n",
              "      <td>2.7</td>\n",
              "      <td>3</td>\n",
              "      <td>2.4</td>\n",
              "      <td>2.8</td>\n",
              "      <td>2.5</td>\n",
              "      <td>2.5</td>\n",
              "      <td>3.7</td>\n",
              "      <td>3.4</td>\n",
              "      <td>3.7</td>\n",
              "      <td>2.3</td>\n",
              "      <td>18.8</td>\n",
              "      <td>18.6</td>\n",
              "      <td>18.5</td>\n",
              "      <td>18.5</td>\n",
              "      <td>18.6</td>\n",
              "      <td>18.9</td>\n",
              "      <td>19.2</td>\n",
              "      <td>19.4</td>\n",
              "      <td>19.8</td>\n",
              "      <td>20.5</td>\n",
              "      <td>21.1</td>\n",
              "      <td>21.9</td>\n",
              "      <td>23.8</td>\n",
              "      <td>25.1</td>\n",
              "      <td>25.8</td>\n",
              "      <td>26</td>\n",
              "      <td>25.6</td>\n",
              "      <td>24.2</td>\n",
              "      <td>22.9</td>\n",
              "      <td>21.6</td>\n",
              "      <td>20</td>\n",
              "      <td>19.5</td>\n",
              "      <td>19.1</td>\n",
              "      <td>19.1</td>\n",
              "      <td>26</td>\n",
              "      <td>21.1</td>\n",
              "      <td>?</td>\n",
              "      <td>?</td>\n",
              "      <td>?</td>\n",
              "      <td>?</td>\n",
              "      <td>?</td>\n",
              "      <td>?</td>\n",
              "      <td>?</td>\n",
              "      <td>?</td>\n",
              "      <td>?</td>\n",
              "      <td>?</td>\n",
              "      <td>?</td>\n",
              "      <td>?</td>\n",
              "      <td>?</td>\n",
              "      <td>?</td>\n",
              "      <td>?</td>\n",
              "      <td>?</td>\n",
              "      <td>?</td>\n",
              "      <td>?</td>\n",
              "      <td>?</td>\n",
              "      <td>0.58</td>\n",
              "      <td>0</td>\n",
              "    </tr>\n",
              "  </tbody>\n",
              "</table>\n",
              "</div>"
            ],
            "text/plain": [
              "       Date WSR0 WSR1 WSR2 WSR3 WSR4  ...     KI    TT    SLP SLP_ Precp Result\n",
              "0  1/1/1998  0.8  1.8  2.4  2.1    2  ...  -12.1  17.9  10330  -55     0      0\n",
              "1  1/2/1998  2.8  3.2  3.3  2.7  3.3  ...  14.05    29  10275  -55     0      0\n",
              "2  1/3/1998  2.9  2.8  2.6  2.1  2.2  ...   17.9  41.3  10235  -40     0      0\n",
              "3  1/4/1998  4.7  3.8  3.7  3.8  2.9  ...  31.15  51.7  10195  -40  2.08      0\n",
              "4  1/5/1998  2.6  2.1  1.6  1.4  0.9  ...      ?     ?      ?    ?  0.58      0\n",
              "\n",
              "[5 rows x 74 columns]"
            ]
          },
          "metadata": {
            "tags": []
          },
          "execution_count": 27
        }
      ]
    },
    {
      "cell_type": "code",
      "metadata": {
        "id": "5dglWQ8y90S0",
        "colab": {
          "base_uri": "https://localhost:8080/",
          "height": 295
        },
        "outputId": "b27c1489-e941-4249-cb34-06e5c11db156"
      },
      "source": [
        "df.describe()"
      ],
      "execution_count": null,
      "outputs": [
        {
          "output_type": "execute_result",
          "data": {
            "text/html": [
              "<div>\n",
              "<style scoped>\n",
              "    .dataframe tbody tr th:only-of-type {\n",
              "        vertical-align: middle;\n",
              "    }\n",
              "\n",
              "    .dataframe tbody tr th {\n",
              "        vertical-align: top;\n",
              "    }\n",
              "\n",
              "    .dataframe thead th {\n",
              "        text-align: right;\n",
              "    }\n",
              "</style>\n",
              "<table border=\"1\" class=\"dataframe\">\n",
              "  <thead>\n",
              "    <tr style=\"text-align: right;\">\n",
              "      <th></th>\n",
              "      <th>Result</th>\n",
              "    </tr>\n",
              "  </thead>\n",
              "  <tbody>\n",
              "    <tr>\n",
              "      <th>count</th>\n",
              "      <td>2534.000000</td>\n",
              "    </tr>\n",
              "    <tr>\n",
              "      <th>mean</th>\n",
              "      <td>0.063141</td>\n",
              "    </tr>\n",
              "    <tr>\n",
              "      <th>std</th>\n",
              "      <td>0.243265</td>\n",
              "    </tr>\n",
              "    <tr>\n",
              "      <th>min</th>\n",
              "      <td>0.000000</td>\n",
              "    </tr>\n",
              "    <tr>\n",
              "      <th>25%</th>\n",
              "      <td>0.000000</td>\n",
              "    </tr>\n",
              "    <tr>\n",
              "      <th>50%</th>\n",
              "      <td>0.000000</td>\n",
              "    </tr>\n",
              "    <tr>\n",
              "      <th>75%</th>\n",
              "      <td>0.000000</td>\n",
              "    </tr>\n",
              "    <tr>\n",
              "      <th>max</th>\n",
              "      <td>1.000000</td>\n",
              "    </tr>\n",
              "  </tbody>\n",
              "</table>\n",
              "</div>"
            ],
            "text/plain": [
              "            Result\n",
              "count  2534.000000\n",
              "mean      0.063141\n",
              "std       0.243265\n",
              "min       0.000000\n",
              "25%       0.000000\n",
              "50%       0.000000\n",
              "75%       0.000000\n",
              "max       1.000000"
            ]
          },
          "metadata": {
            "tags": []
          },
          "execution_count": 28
        }
      ]
    },
    {
      "cell_type": "markdown",
      "metadata": {
        "id": "rubmxmX2OAYv"
      },
      "source": [
        "DROPPING DATE COLUMN"
      ]
    },
    {
      "cell_type": "code",
      "metadata": {
        "id": "BzY4Vec7-okE"
      },
      "source": [
        "df.drop(columns='Date', inplace=True)"
      ],
      "execution_count": null,
      "outputs": []
    },
    {
      "cell_type": "code",
      "metadata": {
        "id": "AnO5jalf-rJx",
        "colab": {
          "base_uri": "https://localhost:8080/",
          "height": 223
        },
        "outputId": "2de70e8b-23bb-40d7-f3be-9f81efdb5d0e"
      },
      "source": [
        "df.head()"
      ],
      "execution_count": null,
      "outputs": [
        {
          "output_type": "execute_result",
          "data": {
            "text/html": [
              "<div>\n",
              "<style scoped>\n",
              "    .dataframe tbody tr th:only-of-type {\n",
              "        vertical-align: middle;\n",
              "    }\n",
              "\n",
              "    .dataframe tbody tr th {\n",
              "        vertical-align: top;\n",
              "    }\n",
              "\n",
              "    .dataframe thead th {\n",
              "        text-align: right;\n",
              "    }\n",
              "</style>\n",
              "<table border=\"1\" class=\"dataframe\">\n",
              "  <thead>\n",
              "    <tr style=\"text-align: right;\">\n",
              "      <th></th>\n",
              "      <th>WSR0</th>\n",
              "      <th>WSR1</th>\n",
              "      <th>WSR2</th>\n",
              "      <th>WSR3</th>\n",
              "      <th>WSR4</th>\n",
              "      <th>WSR5</th>\n",
              "      <th>WSR6</th>\n",
              "      <th>WSR7</th>\n",
              "      <th>WSR8</th>\n",
              "      <th>WSR9</th>\n",
              "      <th>WSR10</th>\n",
              "      <th>WSR11</th>\n",
              "      <th>WSR12</th>\n",
              "      <th>WSR13</th>\n",
              "      <th>WSR14</th>\n",
              "      <th>WSR15</th>\n",
              "      <th>WSR16</th>\n",
              "      <th>WSR17</th>\n",
              "      <th>WSR18</th>\n",
              "      <th>WSR19</th>\n",
              "      <th>WSR20</th>\n",
              "      <th>WSR21</th>\n",
              "      <th>WSR22</th>\n",
              "      <th>WSR23</th>\n",
              "      <th>WSR_PK</th>\n",
              "      <th>WSR_AV</th>\n",
              "      <th>T0</th>\n",
              "      <th>T1</th>\n",
              "      <th>T2</th>\n",
              "      <th>T3</th>\n",
              "      <th>T4</th>\n",
              "      <th>T5</th>\n",
              "      <th>T6</th>\n",
              "      <th>T7</th>\n",
              "      <th>T8</th>\n",
              "      <th>T9</th>\n",
              "      <th>T10</th>\n",
              "      <th>T11</th>\n",
              "      <th>T12</th>\n",
              "      <th>T13</th>\n",
              "      <th>T14</th>\n",
              "      <th>T15</th>\n",
              "      <th>T16</th>\n",
              "      <th>T17</th>\n",
              "      <th>T18</th>\n",
              "      <th>T19</th>\n",
              "      <th>T20</th>\n",
              "      <th>T21</th>\n",
              "      <th>T22</th>\n",
              "      <th>T23</th>\n",
              "      <th>T_PK</th>\n",
              "      <th>T_AV</th>\n",
              "      <th>T85</th>\n",
              "      <th>RH85</th>\n",
              "      <th>U85</th>\n",
              "      <th>V85</th>\n",
              "      <th>HT85</th>\n",
              "      <th>T70</th>\n",
              "      <th>RH70</th>\n",
              "      <th>U70</th>\n",
              "      <th>V70</th>\n",
              "      <th>HT70</th>\n",
              "      <th>T50</th>\n",
              "      <th>RH50</th>\n",
              "      <th>U50</th>\n",
              "      <th>V50</th>\n",
              "      <th>HT50</th>\n",
              "      <th>KI</th>\n",
              "      <th>TT</th>\n",
              "      <th>SLP</th>\n",
              "      <th>SLP_</th>\n",
              "      <th>Precp</th>\n",
              "      <th>Result</th>\n",
              "    </tr>\n",
              "  </thead>\n",
              "  <tbody>\n",
              "    <tr>\n",
              "      <th>0</th>\n",
              "      <td>0.8</td>\n",
              "      <td>1.8</td>\n",
              "      <td>2.4</td>\n",
              "      <td>2.1</td>\n",
              "      <td>2</td>\n",
              "      <td>2.1</td>\n",
              "      <td>1.5</td>\n",
              "      <td>1.7</td>\n",
              "      <td>1.9</td>\n",
              "      <td>2.3</td>\n",
              "      <td>3.7</td>\n",
              "      <td>5.5</td>\n",
              "      <td>5.1</td>\n",
              "      <td>5.4</td>\n",
              "      <td>5.4</td>\n",
              "      <td>4.7</td>\n",
              "      <td>4.3</td>\n",
              "      <td>3.5</td>\n",
              "      <td>3.5</td>\n",
              "      <td>2.9</td>\n",
              "      <td>3.2</td>\n",
              "      <td>3.2</td>\n",
              "      <td>2.8</td>\n",
              "      <td>2.6</td>\n",
              "      <td>5.5</td>\n",
              "      <td>3.1</td>\n",
              "      <td>5.2</td>\n",
              "      <td>6.1</td>\n",
              "      <td>6.1</td>\n",
              "      <td>6.1</td>\n",
              "      <td>6.1</td>\n",
              "      <td>5.6</td>\n",
              "      <td>5.2</td>\n",
              "      <td>5.4</td>\n",
              "      <td>7.2</td>\n",
              "      <td>10.6</td>\n",
              "      <td>14.5</td>\n",
              "      <td>17.2</td>\n",
              "      <td>18.3</td>\n",
              "      <td>18.9</td>\n",
              "      <td>19.1</td>\n",
              "      <td>18.9</td>\n",
              "      <td>18.3</td>\n",
              "      <td>17.3</td>\n",
              "      <td>16.8</td>\n",
              "      <td>16.1</td>\n",
              "      <td>15.4</td>\n",
              "      <td>14.9</td>\n",
              "      <td>14.8</td>\n",
              "      <td>15</td>\n",
              "      <td>19.1</td>\n",
              "      <td>12.5</td>\n",
              "      <td>6.7</td>\n",
              "      <td>0.11</td>\n",
              "      <td>3.83</td>\n",
              "      <td>0.14</td>\n",
              "      <td>1612</td>\n",
              "      <td>-2.3</td>\n",
              "      <td>0.3</td>\n",
              "      <td>7.18</td>\n",
              "      <td>0.12</td>\n",
              "      <td>3178.5</td>\n",
              "      <td>-15.5</td>\n",
              "      <td>0.15</td>\n",
              "      <td>10.67</td>\n",
              "      <td>-1.56</td>\n",
              "      <td>5795</td>\n",
              "      <td>-12.1</td>\n",
              "      <td>17.9</td>\n",
              "      <td>10330</td>\n",
              "      <td>-55</td>\n",
              "      <td>0</td>\n",
              "      <td>0</td>\n",
              "    </tr>\n",
              "    <tr>\n",
              "      <th>1</th>\n",
              "      <td>2.8</td>\n",
              "      <td>3.2</td>\n",
              "      <td>3.3</td>\n",
              "      <td>2.7</td>\n",
              "      <td>3.3</td>\n",
              "      <td>3.2</td>\n",
              "      <td>2.9</td>\n",
              "      <td>2.8</td>\n",
              "      <td>3.1</td>\n",
              "      <td>3.4</td>\n",
              "      <td>4.2</td>\n",
              "      <td>4.5</td>\n",
              "      <td>4.5</td>\n",
              "      <td>4.3</td>\n",
              "      <td>5.5</td>\n",
              "      <td>5.1</td>\n",
              "      <td>3.8</td>\n",
              "      <td>3</td>\n",
              "      <td>2.6</td>\n",
              "      <td>3</td>\n",
              "      <td>2.2</td>\n",
              "      <td>2.3</td>\n",
              "      <td>2.5</td>\n",
              "      <td>2.8</td>\n",
              "      <td>5.5</td>\n",
              "      <td>3.4</td>\n",
              "      <td>15.1</td>\n",
              "      <td>15.3</td>\n",
              "      <td>15.6</td>\n",
              "      <td>15.6</td>\n",
              "      <td>15.9</td>\n",
              "      <td>16.2</td>\n",
              "      <td>16.2</td>\n",
              "      <td>16.2</td>\n",
              "      <td>16.6</td>\n",
              "      <td>17.8</td>\n",
              "      <td>19.4</td>\n",
              "      <td>20.6</td>\n",
              "      <td>21.2</td>\n",
              "      <td>21.8</td>\n",
              "      <td>22.4</td>\n",
              "      <td>22.1</td>\n",
              "      <td>20.8</td>\n",
              "      <td>19.1</td>\n",
              "      <td>18.1</td>\n",
              "      <td>17.2</td>\n",
              "      <td>16.5</td>\n",
              "      <td>16.1</td>\n",
              "      <td>16</td>\n",
              "      <td>16.2</td>\n",
              "      <td>22.4</td>\n",
              "      <td>17.8</td>\n",
              "      <td>9</td>\n",
              "      <td>0.25</td>\n",
              "      <td>-0.41</td>\n",
              "      <td>9.53</td>\n",
              "      <td>1594.5</td>\n",
              "      <td>-2.2</td>\n",
              "      <td>0.96</td>\n",
              "      <td>8.24</td>\n",
              "      <td>7.3</td>\n",
              "      <td>3172</td>\n",
              "      <td>-14.5</td>\n",
              "      <td>0.48</td>\n",
              "      <td>8.39</td>\n",
              "      <td>3.84</td>\n",
              "      <td>5805</td>\n",
              "      <td>14.05</td>\n",
              "      <td>29</td>\n",
              "      <td>10275</td>\n",
              "      <td>-55</td>\n",
              "      <td>0</td>\n",
              "      <td>0</td>\n",
              "    </tr>\n",
              "    <tr>\n",
              "      <th>2</th>\n",
              "      <td>2.9</td>\n",
              "      <td>2.8</td>\n",
              "      <td>2.6</td>\n",
              "      <td>2.1</td>\n",
              "      <td>2.2</td>\n",
              "      <td>2.5</td>\n",
              "      <td>2.5</td>\n",
              "      <td>2.7</td>\n",
              "      <td>2.2</td>\n",
              "      <td>2.5</td>\n",
              "      <td>3.1</td>\n",
              "      <td>4</td>\n",
              "      <td>4.4</td>\n",
              "      <td>4.6</td>\n",
              "      <td>5.6</td>\n",
              "      <td>5.4</td>\n",
              "      <td>5.2</td>\n",
              "      <td>4.4</td>\n",
              "      <td>3.5</td>\n",
              "      <td>2.7</td>\n",
              "      <td>2.9</td>\n",
              "      <td>3.9</td>\n",
              "      <td>4.1</td>\n",
              "      <td>4.6</td>\n",
              "      <td>5.6</td>\n",
              "      <td>3.5</td>\n",
              "      <td>16.6</td>\n",
              "      <td>16.7</td>\n",
              "      <td>16.7</td>\n",
              "      <td>16.8</td>\n",
              "      <td>16.8</td>\n",
              "      <td>16.8</td>\n",
              "      <td>16.9</td>\n",
              "      <td>16.9</td>\n",
              "      <td>17.1</td>\n",
              "      <td>17.6</td>\n",
              "      <td>19.1</td>\n",
              "      <td>21.3</td>\n",
              "      <td>21.8</td>\n",
              "      <td>22</td>\n",
              "      <td>22.1</td>\n",
              "      <td>22.2</td>\n",
              "      <td>21.3</td>\n",
              "      <td>19.8</td>\n",
              "      <td>18.6</td>\n",
              "      <td>18</td>\n",
              "      <td>18</td>\n",
              "      <td>18.2</td>\n",
              "      <td>18.3</td>\n",
              "      <td>18.4</td>\n",
              "      <td>22.2</td>\n",
              "      <td>18.7</td>\n",
              "      <td>9</td>\n",
              "      <td>0.56</td>\n",
              "      <td>0.89</td>\n",
              "      <td>10.17</td>\n",
              "      <td>1568.5</td>\n",
              "      <td>0.9</td>\n",
              "      <td>0.54</td>\n",
              "      <td>3.8</td>\n",
              "      <td>4.42</td>\n",
              "      <td>3160</td>\n",
              "      <td>-15.9</td>\n",
              "      <td>0.6</td>\n",
              "      <td>6.94</td>\n",
              "      <td>9.8</td>\n",
              "      <td>5790</td>\n",
              "      <td>17.9</td>\n",
              "      <td>41.3</td>\n",
              "      <td>10235</td>\n",
              "      <td>-40</td>\n",
              "      <td>0</td>\n",
              "      <td>0</td>\n",
              "    </tr>\n",
              "    <tr>\n",
              "      <th>3</th>\n",
              "      <td>4.7</td>\n",
              "      <td>3.8</td>\n",
              "      <td>3.7</td>\n",
              "      <td>3.8</td>\n",
              "      <td>2.9</td>\n",
              "      <td>3.1</td>\n",
              "      <td>2.8</td>\n",
              "      <td>2.5</td>\n",
              "      <td>2.4</td>\n",
              "      <td>3.1</td>\n",
              "      <td>3.3</td>\n",
              "      <td>3.1</td>\n",
              "      <td>2.3</td>\n",
              "      <td>2.1</td>\n",
              "      <td>2.2</td>\n",
              "      <td>3.8</td>\n",
              "      <td>2.8</td>\n",
              "      <td>2.4</td>\n",
              "      <td>1.9</td>\n",
              "      <td>3.2</td>\n",
              "      <td>4.1</td>\n",
              "      <td>3.9</td>\n",
              "      <td>4.5</td>\n",
              "      <td>4.3</td>\n",
              "      <td>4.7</td>\n",
              "      <td>3.2</td>\n",
              "      <td>18.3</td>\n",
              "      <td>18.2</td>\n",
              "      <td>18.3</td>\n",
              "      <td>18.4</td>\n",
              "      <td>18.6</td>\n",
              "      <td>18.6</td>\n",
              "      <td>18.5</td>\n",
              "      <td>18.7</td>\n",
              "      <td>18.6</td>\n",
              "      <td>18.8</td>\n",
              "      <td>19</td>\n",
              "      <td>19</td>\n",
              "      <td>19.3</td>\n",
              "      <td>19.4</td>\n",
              "      <td>19.6</td>\n",
              "      <td>19.2</td>\n",
              "      <td>18.9</td>\n",
              "      <td>18.8</td>\n",
              "      <td>18.6</td>\n",
              "      <td>18.5</td>\n",
              "      <td>18.3</td>\n",
              "      <td>18.5</td>\n",
              "      <td>18.8</td>\n",
              "      <td>18.9</td>\n",
              "      <td>19.6</td>\n",
              "      <td>18.7</td>\n",
              "      <td>9.9</td>\n",
              "      <td>0.89</td>\n",
              "      <td>-0.34</td>\n",
              "      <td>8.58</td>\n",
              "      <td>1546.5</td>\n",
              "      <td>3</td>\n",
              "      <td>0.77</td>\n",
              "      <td>4.17</td>\n",
              "      <td>8.11</td>\n",
              "      <td>3145.5</td>\n",
              "      <td>-16.8</td>\n",
              "      <td>0.49</td>\n",
              "      <td>8.73</td>\n",
              "      <td>10.54</td>\n",
              "      <td>5775</td>\n",
              "      <td>31.15</td>\n",
              "      <td>51.7</td>\n",
              "      <td>10195</td>\n",
              "      <td>-40</td>\n",
              "      <td>2.08</td>\n",
              "      <td>0</td>\n",
              "    </tr>\n",
              "    <tr>\n",
              "      <th>4</th>\n",
              "      <td>2.6</td>\n",
              "      <td>2.1</td>\n",
              "      <td>1.6</td>\n",
              "      <td>1.4</td>\n",
              "      <td>0.9</td>\n",
              "      <td>1.5</td>\n",
              "      <td>1.2</td>\n",
              "      <td>1.4</td>\n",
              "      <td>1.3</td>\n",
              "      <td>1.4</td>\n",
              "      <td>2.2</td>\n",
              "      <td>2</td>\n",
              "      <td>3</td>\n",
              "      <td>3</td>\n",
              "      <td>3.1</td>\n",
              "      <td>3.1</td>\n",
              "      <td>2.7</td>\n",
              "      <td>3</td>\n",
              "      <td>2.4</td>\n",
              "      <td>2.8</td>\n",
              "      <td>2.5</td>\n",
              "      <td>2.5</td>\n",
              "      <td>3.7</td>\n",
              "      <td>3.4</td>\n",
              "      <td>3.7</td>\n",
              "      <td>2.3</td>\n",
              "      <td>18.8</td>\n",
              "      <td>18.6</td>\n",
              "      <td>18.5</td>\n",
              "      <td>18.5</td>\n",
              "      <td>18.6</td>\n",
              "      <td>18.9</td>\n",
              "      <td>19.2</td>\n",
              "      <td>19.4</td>\n",
              "      <td>19.8</td>\n",
              "      <td>20.5</td>\n",
              "      <td>21.1</td>\n",
              "      <td>21.9</td>\n",
              "      <td>23.8</td>\n",
              "      <td>25.1</td>\n",
              "      <td>25.8</td>\n",
              "      <td>26</td>\n",
              "      <td>25.6</td>\n",
              "      <td>24.2</td>\n",
              "      <td>22.9</td>\n",
              "      <td>21.6</td>\n",
              "      <td>20</td>\n",
              "      <td>19.5</td>\n",
              "      <td>19.1</td>\n",
              "      <td>19.1</td>\n",
              "      <td>26</td>\n",
              "      <td>21.1</td>\n",
              "      <td>?</td>\n",
              "      <td>?</td>\n",
              "      <td>?</td>\n",
              "      <td>?</td>\n",
              "      <td>?</td>\n",
              "      <td>?</td>\n",
              "      <td>?</td>\n",
              "      <td>?</td>\n",
              "      <td>?</td>\n",
              "      <td>?</td>\n",
              "      <td>?</td>\n",
              "      <td>?</td>\n",
              "      <td>?</td>\n",
              "      <td>?</td>\n",
              "      <td>?</td>\n",
              "      <td>?</td>\n",
              "      <td>?</td>\n",
              "      <td>?</td>\n",
              "      <td>?</td>\n",
              "      <td>0.58</td>\n",
              "      <td>0</td>\n",
              "    </tr>\n",
              "  </tbody>\n",
              "</table>\n",
              "</div>"
            ],
            "text/plain": [
              "  WSR0 WSR1 WSR2 WSR3 WSR4 WSR5  ...     KI    TT    SLP SLP_ Precp Result\n",
              "0  0.8  1.8  2.4  2.1    2  2.1  ...  -12.1  17.9  10330  -55     0      0\n",
              "1  2.8  3.2  3.3  2.7  3.3  3.2  ...  14.05    29  10275  -55     0      0\n",
              "2  2.9  2.8  2.6  2.1  2.2  2.5  ...   17.9  41.3  10235  -40     0      0\n",
              "3  4.7  3.8  3.7  3.8  2.9  3.1  ...  31.15  51.7  10195  -40  2.08      0\n",
              "4  2.6  2.1  1.6  1.4  0.9  1.5  ...      ?     ?      ?    ?  0.58      0\n",
              "\n",
              "[5 rows x 73 columns]"
            ]
          },
          "metadata": {
            "tags": []
          },
          "execution_count": 30
        }
      ]
    },
    {
      "cell_type": "markdown",
      "metadata": {
        "id": "2ivYj25AOIMS"
      },
      "source": [
        "REPLACE MISSING VALUES"
      ]
    },
    {
      "cell_type": "code",
      "metadata": {
        "id": "78dMygRdADPL"
      },
      "source": [
        "df.replace(to_replace='?', value=np.nan, inplace=True)"
      ],
      "execution_count": null,
      "outputs": []
    },
    {
      "cell_type": "code",
      "metadata": {
        "id": "dvZ1pTDmYesV",
        "colab": {
          "base_uri": "https://localhost:8080/",
          "height": 223
        },
        "outputId": "61405eec-7d24-4c4b-b173-e1c79090f6a6"
      },
      "source": [
        "df.head()"
      ],
      "execution_count": null,
      "outputs": [
        {
          "output_type": "execute_result",
          "data": {
            "text/html": [
              "<div>\n",
              "<style scoped>\n",
              "    .dataframe tbody tr th:only-of-type {\n",
              "        vertical-align: middle;\n",
              "    }\n",
              "\n",
              "    .dataframe tbody tr th {\n",
              "        vertical-align: top;\n",
              "    }\n",
              "\n",
              "    .dataframe thead th {\n",
              "        text-align: right;\n",
              "    }\n",
              "</style>\n",
              "<table border=\"1\" class=\"dataframe\">\n",
              "  <thead>\n",
              "    <tr style=\"text-align: right;\">\n",
              "      <th></th>\n",
              "      <th>WSR0</th>\n",
              "      <th>WSR1</th>\n",
              "      <th>WSR2</th>\n",
              "      <th>WSR3</th>\n",
              "      <th>WSR4</th>\n",
              "      <th>WSR5</th>\n",
              "      <th>WSR6</th>\n",
              "      <th>WSR7</th>\n",
              "      <th>WSR8</th>\n",
              "      <th>WSR9</th>\n",
              "      <th>WSR10</th>\n",
              "      <th>WSR11</th>\n",
              "      <th>WSR12</th>\n",
              "      <th>WSR13</th>\n",
              "      <th>WSR14</th>\n",
              "      <th>WSR15</th>\n",
              "      <th>WSR16</th>\n",
              "      <th>WSR17</th>\n",
              "      <th>WSR18</th>\n",
              "      <th>WSR19</th>\n",
              "      <th>WSR20</th>\n",
              "      <th>WSR21</th>\n",
              "      <th>WSR22</th>\n",
              "      <th>WSR23</th>\n",
              "      <th>WSR_PK</th>\n",
              "      <th>WSR_AV</th>\n",
              "      <th>T0</th>\n",
              "      <th>T1</th>\n",
              "      <th>T2</th>\n",
              "      <th>T3</th>\n",
              "      <th>T4</th>\n",
              "      <th>T5</th>\n",
              "      <th>T6</th>\n",
              "      <th>T7</th>\n",
              "      <th>T8</th>\n",
              "      <th>T9</th>\n",
              "      <th>T10</th>\n",
              "      <th>T11</th>\n",
              "      <th>T12</th>\n",
              "      <th>T13</th>\n",
              "      <th>T14</th>\n",
              "      <th>T15</th>\n",
              "      <th>T16</th>\n",
              "      <th>T17</th>\n",
              "      <th>T18</th>\n",
              "      <th>T19</th>\n",
              "      <th>T20</th>\n",
              "      <th>T21</th>\n",
              "      <th>T22</th>\n",
              "      <th>T23</th>\n",
              "      <th>T_PK</th>\n",
              "      <th>T_AV</th>\n",
              "      <th>T85</th>\n",
              "      <th>RH85</th>\n",
              "      <th>U85</th>\n",
              "      <th>V85</th>\n",
              "      <th>HT85</th>\n",
              "      <th>T70</th>\n",
              "      <th>RH70</th>\n",
              "      <th>U70</th>\n",
              "      <th>V70</th>\n",
              "      <th>HT70</th>\n",
              "      <th>T50</th>\n",
              "      <th>RH50</th>\n",
              "      <th>U50</th>\n",
              "      <th>V50</th>\n",
              "      <th>HT50</th>\n",
              "      <th>KI</th>\n",
              "      <th>TT</th>\n",
              "      <th>SLP</th>\n",
              "      <th>SLP_</th>\n",
              "      <th>Precp</th>\n",
              "      <th>Result</th>\n",
              "    </tr>\n",
              "  </thead>\n",
              "  <tbody>\n",
              "    <tr>\n",
              "      <th>0</th>\n",
              "      <td>0.8</td>\n",
              "      <td>1.8</td>\n",
              "      <td>2.4</td>\n",
              "      <td>2.1</td>\n",
              "      <td>2</td>\n",
              "      <td>2.1</td>\n",
              "      <td>1.5</td>\n",
              "      <td>1.7</td>\n",
              "      <td>1.9</td>\n",
              "      <td>2.3</td>\n",
              "      <td>3.7</td>\n",
              "      <td>5.5</td>\n",
              "      <td>5.1</td>\n",
              "      <td>5.4</td>\n",
              "      <td>5.4</td>\n",
              "      <td>4.7</td>\n",
              "      <td>4.3</td>\n",
              "      <td>3.5</td>\n",
              "      <td>3.5</td>\n",
              "      <td>2.9</td>\n",
              "      <td>3.2</td>\n",
              "      <td>3.2</td>\n",
              "      <td>2.8</td>\n",
              "      <td>2.6</td>\n",
              "      <td>5.5</td>\n",
              "      <td>3.1</td>\n",
              "      <td>5.2</td>\n",
              "      <td>6.1</td>\n",
              "      <td>6.1</td>\n",
              "      <td>6.1</td>\n",
              "      <td>6.1</td>\n",
              "      <td>5.6</td>\n",
              "      <td>5.2</td>\n",
              "      <td>5.4</td>\n",
              "      <td>7.2</td>\n",
              "      <td>10.6</td>\n",
              "      <td>14.5</td>\n",
              "      <td>17.2</td>\n",
              "      <td>18.3</td>\n",
              "      <td>18.9</td>\n",
              "      <td>19.1</td>\n",
              "      <td>18.9</td>\n",
              "      <td>18.3</td>\n",
              "      <td>17.3</td>\n",
              "      <td>16.8</td>\n",
              "      <td>16.1</td>\n",
              "      <td>15.4</td>\n",
              "      <td>14.9</td>\n",
              "      <td>14.8</td>\n",
              "      <td>15</td>\n",
              "      <td>19.1</td>\n",
              "      <td>12.5</td>\n",
              "      <td>6.7</td>\n",
              "      <td>0.11</td>\n",
              "      <td>3.83</td>\n",
              "      <td>0.14</td>\n",
              "      <td>1612</td>\n",
              "      <td>-2.3</td>\n",
              "      <td>0.3</td>\n",
              "      <td>7.18</td>\n",
              "      <td>0.12</td>\n",
              "      <td>3178.5</td>\n",
              "      <td>-15.5</td>\n",
              "      <td>0.15</td>\n",
              "      <td>10.67</td>\n",
              "      <td>-1.56</td>\n",
              "      <td>5795</td>\n",
              "      <td>-12.1</td>\n",
              "      <td>17.9</td>\n",
              "      <td>10330</td>\n",
              "      <td>-55</td>\n",
              "      <td>0</td>\n",
              "      <td>0</td>\n",
              "    </tr>\n",
              "    <tr>\n",
              "      <th>1</th>\n",
              "      <td>2.8</td>\n",
              "      <td>3.2</td>\n",
              "      <td>3.3</td>\n",
              "      <td>2.7</td>\n",
              "      <td>3.3</td>\n",
              "      <td>3.2</td>\n",
              "      <td>2.9</td>\n",
              "      <td>2.8</td>\n",
              "      <td>3.1</td>\n",
              "      <td>3.4</td>\n",
              "      <td>4.2</td>\n",
              "      <td>4.5</td>\n",
              "      <td>4.5</td>\n",
              "      <td>4.3</td>\n",
              "      <td>5.5</td>\n",
              "      <td>5.1</td>\n",
              "      <td>3.8</td>\n",
              "      <td>3</td>\n",
              "      <td>2.6</td>\n",
              "      <td>3</td>\n",
              "      <td>2.2</td>\n",
              "      <td>2.3</td>\n",
              "      <td>2.5</td>\n",
              "      <td>2.8</td>\n",
              "      <td>5.5</td>\n",
              "      <td>3.4</td>\n",
              "      <td>15.1</td>\n",
              "      <td>15.3</td>\n",
              "      <td>15.6</td>\n",
              "      <td>15.6</td>\n",
              "      <td>15.9</td>\n",
              "      <td>16.2</td>\n",
              "      <td>16.2</td>\n",
              "      <td>16.2</td>\n",
              "      <td>16.6</td>\n",
              "      <td>17.8</td>\n",
              "      <td>19.4</td>\n",
              "      <td>20.6</td>\n",
              "      <td>21.2</td>\n",
              "      <td>21.8</td>\n",
              "      <td>22.4</td>\n",
              "      <td>22.1</td>\n",
              "      <td>20.8</td>\n",
              "      <td>19.1</td>\n",
              "      <td>18.1</td>\n",
              "      <td>17.2</td>\n",
              "      <td>16.5</td>\n",
              "      <td>16.1</td>\n",
              "      <td>16</td>\n",
              "      <td>16.2</td>\n",
              "      <td>22.4</td>\n",
              "      <td>17.8</td>\n",
              "      <td>9</td>\n",
              "      <td>0.25</td>\n",
              "      <td>-0.41</td>\n",
              "      <td>9.53</td>\n",
              "      <td>1594.5</td>\n",
              "      <td>-2.2</td>\n",
              "      <td>0.96</td>\n",
              "      <td>8.24</td>\n",
              "      <td>7.3</td>\n",
              "      <td>3172</td>\n",
              "      <td>-14.5</td>\n",
              "      <td>0.48</td>\n",
              "      <td>8.39</td>\n",
              "      <td>3.84</td>\n",
              "      <td>5805</td>\n",
              "      <td>14.05</td>\n",
              "      <td>29</td>\n",
              "      <td>10275</td>\n",
              "      <td>-55</td>\n",
              "      <td>0</td>\n",
              "      <td>0</td>\n",
              "    </tr>\n",
              "    <tr>\n",
              "      <th>2</th>\n",
              "      <td>2.9</td>\n",
              "      <td>2.8</td>\n",
              "      <td>2.6</td>\n",
              "      <td>2.1</td>\n",
              "      <td>2.2</td>\n",
              "      <td>2.5</td>\n",
              "      <td>2.5</td>\n",
              "      <td>2.7</td>\n",
              "      <td>2.2</td>\n",
              "      <td>2.5</td>\n",
              "      <td>3.1</td>\n",
              "      <td>4</td>\n",
              "      <td>4.4</td>\n",
              "      <td>4.6</td>\n",
              "      <td>5.6</td>\n",
              "      <td>5.4</td>\n",
              "      <td>5.2</td>\n",
              "      <td>4.4</td>\n",
              "      <td>3.5</td>\n",
              "      <td>2.7</td>\n",
              "      <td>2.9</td>\n",
              "      <td>3.9</td>\n",
              "      <td>4.1</td>\n",
              "      <td>4.6</td>\n",
              "      <td>5.6</td>\n",
              "      <td>3.5</td>\n",
              "      <td>16.6</td>\n",
              "      <td>16.7</td>\n",
              "      <td>16.7</td>\n",
              "      <td>16.8</td>\n",
              "      <td>16.8</td>\n",
              "      <td>16.8</td>\n",
              "      <td>16.9</td>\n",
              "      <td>16.9</td>\n",
              "      <td>17.1</td>\n",
              "      <td>17.6</td>\n",
              "      <td>19.1</td>\n",
              "      <td>21.3</td>\n",
              "      <td>21.8</td>\n",
              "      <td>22</td>\n",
              "      <td>22.1</td>\n",
              "      <td>22.2</td>\n",
              "      <td>21.3</td>\n",
              "      <td>19.8</td>\n",
              "      <td>18.6</td>\n",
              "      <td>18</td>\n",
              "      <td>18</td>\n",
              "      <td>18.2</td>\n",
              "      <td>18.3</td>\n",
              "      <td>18.4</td>\n",
              "      <td>22.2</td>\n",
              "      <td>18.7</td>\n",
              "      <td>9</td>\n",
              "      <td>0.56</td>\n",
              "      <td>0.89</td>\n",
              "      <td>10.17</td>\n",
              "      <td>1568.5</td>\n",
              "      <td>0.9</td>\n",
              "      <td>0.54</td>\n",
              "      <td>3.8</td>\n",
              "      <td>4.42</td>\n",
              "      <td>3160</td>\n",
              "      <td>-15.9</td>\n",
              "      <td>0.6</td>\n",
              "      <td>6.94</td>\n",
              "      <td>9.8</td>\n",
              "      <td>5790</td>\n",
              "      <td>17.9</td>\n",
              "      <td>41.3</td>\n",
              "      <td>10235</td>\n",
              "      <td>-40</td>\n",
              "      <td>0</td>\n",
              "      <td>0</td>\n",
              "    </tr>\n",
              "    <tr>\n",
              "      <th>3</th>\n",
              "      <td>4.7</td>\n",
              "      <td>3.8</td>\n",
              "      <td>3.7</td>\n",
              "      <td>3.8</td>\n",
              "      <td>2.9</td>\n",
              "      <td>3.1</td>\n",
              "      <td>2.8</td>\n",
              "      <td>2.5</td>\n",
              "      <td>2.4</td>\n",
              "      <td>3.1</td>\n",
              "      <td>3.3</td>\n",
              "      <td>3.1</td>\n",
              "      <td>2.3</td>\n",
              "      <td>2.1</td>\n",
              "      <td>2.2</td>\n",
              "      <td>3.8</td>\n",
              "      <td>2.8</td>\n",
              "      <td>2.4</td>\n",
              "      <td>1.9</td>\n",
              "      <td>3.2</td>\n",
              "      <td>4.1</td>\n",
              "      <td>3.9</td>\n",
              "      <td>4.5</td>\n",
              "      <td>4.3</td>\n",
              "      <td>4.7</td>\n",
              "      <td>3.2</td>\n",
              "      <td>18.3</td>\n",
              "      <td>18.2</td>\n",
              "      <td>18.3</td>\n",
              "      <td>18.4</td>\n",
              "      <td>18.6</td>\n",
              "      <td>18.6</td>\n",
              "      <td>18.5</td>\n",
              "      <td>18.7</td>\n",
              "      <td>18.6</td>\n",
              "      <td>18.8</td>\n",
              "      <td>19</td>\n",
              "      <td>19</td>\n",
              "      <td>19.3</td>\n",
              "      <td>19.4</td>\n",
              "      <td>19.6</td>\n",
              "      <td>19.2</td>\n",
              "      <td>18.9</td>\n",
              "      <td>18.8</td>\n",
              "      <td>18.6</td>\n",
              "      <td>18.5</td>\n",
              "      <td>18.3</td>\n",
              "      <td>18.5</td>\n",
              "      <td>18.8</td>\n",
              "      <td>18.9</td>\n",
              "      <td>19.6</td>\n",
              "      <td>18.7</td>\n",
              "      <td>9.9</td>\n",
              "      <td>0.89</td>\n",
              "      <td>-0.34</td>\n",
              "      <td>8.58</td>\n",
              "      <td>1546.5</td>\n",
              "      <td>3</td>\n",
              "      <td>0.77</td>\n",
              "      <td>4.17</td>\n",
              "      <td>8.11</td>\n",
              "      <td>3145.5</td>\n",
              "      <td>-16.8</td>\n",
              "      <td>0.49</td>\n",
              "      <td>8.73</td>\n",
              "      <td>10.54</td>\n",
              "      <td>5775</td>\n",
              "      <td>31.15</td>\n",
              "      <td>51.7</td>\n",
              "      <td>10195</td>\n",
              "      <td>-40</td>\n",
              "      <td>2.08</td>\n",
              "      <td>0</td>\n",
              "    </tr>\n",
              "    <tr>\n",
              "      <th>4</th>\n",
              "      <td>2.6</td>\n",
              "      <td>2.1</td>\n",
              "      <td>1.6</td>\n",
              "      <td>1.4</td>\n",
              "      <td>0.9</td>\n",
              "      <td>1.5</td>\n",
              "      <td>1.2</td>\n",
              "      <td>1.4</td>\n",
              "      <td>1.3</td>\n",
              "      <td>1.4</td>\n",
              "      <td>2.2</td>\n",
              "      <td>2</td>\n",
              "      <td>3</td>\n",
              "      <td>3</td>\n",
              "      <td>3.1</td>\n",
              "      <td>3.1</td>\n",
              "      <td>2.7</td>\n",
              "      <td>3</td>\n",
              "      <td>2.4</td>\n",
              "      <td>2.8</td>\n",
              "      <td>2.5</td>\n",
              "      <td>2.5</td>\n",
              "      <td>3.7</td>\n",
              "      <td>3.4</td>\n",
              "      <td>3.7</td>\n",
              "      <td>2.3</td>\n",
              "      <td>18.8</td>\n",
              "      <td>18.6</td>\n",
              "      <td>18.5</td>\n",
              "      <td>18.5</td>\n",
              "      <td>18.6</td>\n",
              "      <td>18.9</td>\n",
              "      <td>19.2</td>\n",
              "      <td>19.4</td>\n",
              "      <td>19.8</td>\n",
              "      <td>20.5</td>\n",
              "      <td>21.1</td>\n",
              "      <td>21.9</td>\n",
              "      <td>23.8</td>\n",
              "      <td>25.1</td>\n",
              "      <td>25.8</td>\n",
              "      <td>26</td>\n",
              "      <td>25.6</td>\n",
              "      <td>24.2</td>\n",
              "      <td>22.9</td>\n",
              "      <td>21.6</td>\n",
              "      <td>20</td>\n",
              "      <td>19.5</td>\n",
              "      <td>19.1</td>\n",
              "      <td>19.1</td>\n",
              "      <td>26</td>\n",
              "      <td>21.1</td>\n",
              "      <td>NaN</td>\n",
              "      <td>NaN</td>\n",
              "      <td>NaN</td>\n",
              "      <td>NaN</td>\n",
              "      <td>NaN</td>\n",
              "      <td>NaN</td>\n",
              "      <td>NaN</td>\n",
              "      <td>NaN</td>\n",
              "      <td>NaN</td>\n",
              "      <td>NaN</td>\n",
              "      <td>NaN</td>\n",
              "      <td>NaN</td>\n",
              "      <td>NaN</td>\n",
              "      <td>NaN</td>\n",
              "      <td>NaN</td>\n",
              "      <td>NaN</td>\n",
              "      <td>NaN</td>\n",
              "      <td>NaN</td>\n",
              "      <td>NaN</td>\n",
              "      <td>0.58</td>\n",
              "      <td>0</td>\n",
              "    </tr>\n",
              "  </tbody>\n",
              "</table>\n",
              "</div>"
            ],
            "text/plain": [
              "  WSR0 WSR1 WSR2 WSR3 WSR4 WSR5  ...     KI    TT    SLP SLP_ Precp Result\n",
              "0  0.8  1.8  2.4  2.1    2  2.1  ...  -12.1  17.9  10330  -55     0      0\n",
              "1  2.8  3.2  3.3  2.7  3.3  3.2  ...  14.05    29  10275  -55     0      0\n",
              "2  2.9  2.8  2.6  2.1  2.2  2.5  ...   17.9  41.3  10235  -40     0      0\n",
              "3  4.7  3.8  3.7  3.8  2.9  3.1  ...  31.15  51.7  10195  -40  2.08      0\n",
              "4  2.6  2.1  1.6  1.4  0.9  1.5  ...    NaN   NaN    NaN  NaN  0.58      0\n",
              "\n",
              "[5 rows x 73 columns]"
            ]
          },
          "metadata": {
            "tags": []
          },
          "execution_count": 78
        }
      ]
    },
    {
      "cell_type": "markdown",
      "metadata": {
        "id": "Jcm820dHORPo"
      },
      "source": [
        "STORE TARGET TO BE PREDICTED IN Y"
      ]
    },
    {
      "cell_type": "code",
      "metadata": {
        "id": "w_yUtLvaAfd6"
      },
      "source": [
        "X = df.iloc[:,:-1].values\n",
        "Y = df.iloc[:,-1].values"
      ],
      "execution_count": null,
      "outputs": []
    },
    {
      "cell_type": "code",
      "metadata": {
        "id": "9n0rdUX2BKNr"
      },
      "source": [
        "from sklearn.impute import SimpleImputer\n",
        "imputer = SimpleImputer(missing_values=np.nan, strategy='mean')"
      ],
      "execution_count": null,
      "outputs": []
    },
    {
      "cell_type": "code",
      "metadata": {
        "id": "VCKpqCyCauvE",
        "colab": {
          "base_uri": "https://localhost:8080/",
          "height": 223
        },
        "outputId": "6ccfb3ff-d69c-4578-f4bf-d16461626c60"
      },
      "source": [
        "df = pd.DataFrame(imputer.fit_transform(df), dtype='float64')\n",
        "df.columns = ['WSR0','WSR1','WSR2','WSR3','WSR4','WSR5','WSR6','WSR7','WSR8','WSR9','WSR10','WSR11','WSR12','WSR13','WSR14','WSR15','WSR16','WSR17','WSR18','WSR19','WSR20','WSR21','WSR22','WSR23','WSR_PK','WSR_AV','T0','T1','T2','T3','T4','T5','T6','T7','T8','T9','T10','T11','T12','T13','T14','T15','T16','T17','T18','T19','T20','T21','T22','T23','T_PK','T_AV','T85','RH85','U85','V85','HT85','T70','RH70','U70','V70','HT70','T50','RH50','U50','V50','HT50','KI','TT','SLP','SLP_','Precp','Result']\n",
        "df.head()"
      ],
      "execution_count": null,
      "outputs": [
        {
          "output_type": "execute_result",
          "data": {
            "text/html": [
              "<div>\n",
              "<style scoped>\n",
              "    .dataframe tbody tr th:only-of-type {\n",
              "        vertical-align: middle;\n",
              "    }\n",
              "\n",
              "    .dataframe tbody tr th {\n",
              "        vertical-align: top;\n",
              "    }\n",
              "\n",
              "    .dataframe thead th {\n",
              "        text-align: right;\n",
              "    }\n",
              "</style>\n",
              "<table border=\"1\" class=\"dataframe\">\n",
              "  <thead>\n",
              "    <tr style=\"text-align: right;\">\n",
              "      <th></th>\n",
              "      <th>WSR0</th>\n",
              "      <th>WSR1</th>\n",
              "      <th>WSR2</th>\n",
              "      <th>WSR3</th>\n",
              "      <th>WSR4</th>\n",
              "      <th>WSR5</th>\n",
              "      <th>WSR6</th>\n",
              "      <th>WSR7</th>\n",
              "      <th>WSR8</th>\n",
              "      <th>WSR9</th>\n",
              "      <th>WSR10</th>\n",
              "      <th>WSR11</th>\n",
              "      <th>WSR12</th>\n",
              "      <th>WSR13</th>\n",
              "      <th>WSR14</th>\n",
              "      <th>WSR15</th>\n",
              "      <th>WSR16</th>\n",
              "      <th>WSR17</th>\n",
              "      <th>WSR18</th>\n",
              "      <th>WSR19</th>\n",
              "      <th>WSR20</th>\n",
              "      <th>WSR21</th>\n",
              "      <th>WSR22</th>\n",
              "      <th>WSR23</th>\n",
              "      <th>WSR_PK</th>\n",
              "      <th>WSR_AV</th>\n",
              "      <th>T0</th>\n",
              "      <th>T1</th>\n",
              "      <th>T2</th>\n",
              "      <th>T3</th>\n",
              "      <th>T4</th>\n",
              "      <th>T5</th>\n",
              "      <th>T6</th>\n",
              "      <th>T7</th>\n",
              "      <th>T8</th>\n",
              "      <th>T9</th>\n",
              "      <th>T10</th>\n",
              "      <th>T11</th>\n",
              "      <th>T12</th>\n",
              "      <th>T13</th>\n",
              "      <th>T14</th>\n",
              "      <th>T15</th>\n",
              "      <th>T16</th>\n",
              "      <th>T17</th>\n",
              "      <th>T18</th>\n",
              "      <th>T19</th>\n",
              "      <th>T20</th>\n",
              "      <th>T21</th>\n",
              "      <th>T22</th>\n",
              "      <th>T23</th>\n",
              "      <th>T_PK</th>\n",
              "      <th>T_AV</th>\n",
              "      <th>T85</th>\n",
              "      <th>RH85</th>\n",
              "      <th>U85</th>\n",
              "      <th>V85</th>\n",
              "      <th>HT85</th>\n",
              "      <th>T70</th>\n",
              "      <th>RH70</th>\n",
              "      <th>U70</th>\n",
              "      <th>V70</th>\n",
              "      <th>HT70</th>\n",
              "      <th>T50</th>\n",
              "      <th>RH50</th>\n",
              "      <th>U50</th>\n",
              "      <th>V50</th>\n",
              "      <th>HT50</th>\n",
              "      <th>KI</th>\n",
              "      <th>TT</th>\n",
              "      <th>SLP</th>\n",
              "      <th>SLP_</th>\n",
              "      <th>Precp</th>\n",
              "      <th>Result</th>\n",
              "    </tr>\n",
              "  </thead>\n",
              "  <tbody>\n",
              "    <tr>\n",
              "      <th>0</th>\n",
              "      <td>0.8</td>\n",
              "      <td>1.8</td>\n",
              "      <td>2.4</td>\n",
              "      <td>2.1</td>\n",
              "      <td>2.0</td>\n",
              "      <td>2.1</td>\n",
              "      <td>1.5</td>\n",
              "      <td>1.7</td>\n",
              "      <td>1.9</td>\n",
              "      <td>2.3</td>\n",
              "      <td>3.7</td>\n",
              "      <td>5.5</td>\n",
              "      <td>5.1</td>\n",
              "      <td>5.4</td>\n",
              "      <td>5.4</td>\n",
              "      <td>4.7</td>\n",
              "      <td>4.3</td>\n",
              "      <td>3.5</td>\n",
              "      <td>3.5</td>\n",
              "      <td>2.9</td>\n",
              "      <td>3.2</td>\n",
              "      <td>3.2</td>\n",
              "      <td>2.8</td>\n",
              "      <td>2.6</td>\n",
              "      <td>5.5</td>\n",
              "      <td>3.1</td>\n",
              "      <td>5.2</td>\n",
              "      <td>6.1</td>\n",
              "      <td>6.1</td>\n",
              "      <td>6.1</td>\n",
              "      <td>6.1</td>\n",
              "      <td>5.6</td>\n",
              "      <td>5.2</td>\n",
              "      <td>5.4</td>\n",
              "      <td>7.2</td>\n",
              "      <td>10.6</td>\n",
              "      <td>14.5</td>\n",
              "      <td>17.2</td>\n",
              "      <td>18.3</td>\n",
              "      <td>18.9</td>\n",
              "      <td>19.1</td>\n",
              "      <td>18.9</td>\n",
              "      <td>18.3</td>\n",
              "      <td>17.3</td>\n",
              "      <td>16.8</td>\n",
              "      <td>16.1</td>\n",
              "      <td>15.4</td>\n",
              "      <td>14.9</td>\n",
              "      <td>14.8</td>\n",
              "      <td>15.0</td>\n",
              "      <td>19.1</td>\n",
              "      <td>12.5</td>\n",
              "      <td>6.700000</td>\n",
              "      <td>0.11000</td>\n",
              "      <td>3.830000</td>\n",
              "      <td>0.140000</td>\n",
              "      <td>1612.00000</td>\n",
              "      <td>-2.300000</td>\n",
              "      <td>0.300000</td>\n",
              "      <td>7.180000</td>\n",
              "      <td>0.120000</td>\n",
              "      <td>3178.500000</td>\n",
              "      <td>-15.50000</td>\n",
              "      <td>0.150000</td>\n",
              "      <td>10.670000</td>\n",
              "      <td>-1.560000</td>\n",
              "      <td>5795.000000</td>\n",
              "      <td>-12.100000</td>\n",
              "      <td>17.900000</td>\n",
              "      <td>10330.000000</td>\n",
              "      <td>-55.000000</td>\n",
              "      <td>0.00</td>\n",
              "      <td>0.0</td>\n",
              "    </tr>\n",
              "    <tr>\n",
              "      <th>1</th>\n",
              "      <td>2.8</td>\n",
              "      <td>3.2</td>\n",
              "      <td>3.3</td>\n",
              "      <td>2.7</td>\n",
              "      <td>3.3</td>\n",
              "      <td>3.2</td>\n",
              "      <td>2.9</td>\n",
              "      <td>2.8</td>\n",
              "      <td>3.1</td>\n",
              "      <td>3.4</td>\n",
              "      <td>4.2</td>\n",
              "      <td>4.5</td>\n",
              "      <td>4.5</td>\n",
              "      <td>4.3</td>\n",
              "      <td>5.5</td>\n",
              "      <td>5.1</td>\n",
              "      <td>3.8</td>\n",
              "      <td>3.0</td>\n",
              "      <td>2.6</td>\n",
              "      <td>3.0</td>\n",
              "      <td>2.2</td>\n",
              "      <td>2.3</td>\n",
              "      <td>2.5</td>\n",
              "      <td>2.8</td>\n",
              "      <td>5.5</td>\n",
              "      <td>3.4</td>\n",
              "      <td>15.1</td>\n",
              "      <td>15.3</td>\n",
              "      <td>15.6</td>\n",
              "      <td>15.6</td>\n",
              "      <td>15.9</td>\n",
              "      <td>16.2</td>\n",
              "      <td>16.2</td>\n",
              "      <td>16.2</td>\n",
              "      <td>16.6</td>\n",
              "      <td>17.8</td>\n",
              "      <td>19.4</td>\n",
              "      <td>20.6</td>\n",
              "      <td>21.2</td>\n",
              "      <td>21.8</td>\n",
              "      <td>22.4</td>\n",
              "      <td>22.1</td>\n",
              "      <td>20.8</td>\n",
              "      <td>19.1</td>\n",
              "      <td>18.1</td>\n",
              "      <td>17.2</td>\n",
              "      <td>16.5</td>\n",
              "      <td>16.1</td>\n",
              "      <td>16.0</td>\n",
              "      <td>16.2</td>\n",
              "      <td>22.4</td>\n",
              "      <td>17.8</td>\n",
              "      <td>9.000000</td>\n",
              "      <td>0.25000</td>\n",
              "      <td>-0.410000</td>\n",
              "      <td>9.530000</td>\n",
              "      <td>1594.50000</td>\n",
              "      <td>-2.200000</td>\n",
              "      <td>0.960000</td>\n",
              "      <td>8.240000</td>\n",
              "      <td>7.300000</td>\n",
              "      <td>3172.000000</td>\n",
              "      <td>-14.50000</td>\n",
              "      <td>0.480000</td>\n",
              "      <td>8.390000</td>\n",
              "      <td>3.840000</td>\n",
              "      <td>5805.000000</td>\n",
              "      <td>14.050000</td>\n",
              "      <td>29.000000</td>\n",
              "      <td>10275.000000</td>\n",
              "      <td>-55.000000</td>\n",
              "      <td>0.00</td>\n",
              "      <td>0.0</td>\n",
              "    </tr>\n",
              "    <tr>\n",
              "      <th>2</th>\n",
              "      <td>2.9</td>\n",
              "      <td>2.8</td>\n",
              "      <td>2.6</td>\n",
              "      <td>2.1</td>\n",
              "      <td>2.2</td>\n",
              "      <td>2.5</td>\n",
              "      <td>2.5</td>\n",
              "      <td>2.7</td>\n",
              "      <td>2.2</td>\n",
              "      <td>2.5</td>\n",
              "      <td>3.1</td>\n",
              "      <td>4.0</td>\n",
              "      <td>4.4</td>\n",
              "      <td>4.6</td>\n",
              "      <td>5.6</td>\n",
              "      <td>5.4</td>\n",
              "      <td>5.2</td>\n",
              "      <td>4.4</td>\n",
              "      <td>3.5</td>\n",
              "      <td>2.7</td>\n",
              "      <td>2.9</td>\n",
              "      <td>3.9</td>\n",
              "      <td>4.1</td>\n",
              "      <td>4.6</td>\n",
              "      <td>5.6</td>\n",
              "      <td>3.5</td>\n",
              "      <td>16.6</td>\n",
              "      <td>16.7</td>\n",
              "      <td>16.7</td>\n",
              "      <td>16.8</td>\n",
              "      <td>16.8</td>\n",
              "      <td>16.8</td>\n",
              "      <td>16.9</td>\n",
              "      <td>16.9</td>\n",
              "      <td>17.1</td>\n",
              "      <td>17.6</td>\n",
              "      <td>19.1</td>\n",
              "      <td>21.3</td>\n",
              "      <td>21.8</td>\n",
              "      <td>22.0</td>\n",
              "      <td>22.1</td>\n",
              "      <td>22.2</td>\n",
              "      <td>21.3</td>\n",
              "      <td>19.8</td>\n",
              "      <td>18.6</td>\n",
              "      <td>18.0</td>\n",
              "      <td>18.0</td>\n",
              "      <td>18.2</td>\n",
              "      <td>18.3</td>\n",
              "      <td>18.4</td>\n",
              "      <td>22.2</td>\n",
              "      <td>18.7</td>\n",
              "      <td>9.000000</td>\n",
              "      <td>0.56000</td>\n",
              "      <td>0.890000</td>\n",
              "      <td>10.170000</td>\n",
              "      <td>1568.50000</td>\n",
              "      <td>0.900000</td>\n",
              "      <td>0.540000</td>\n",
              "      <td>3.800000</td>\n",
              "      <td>4.420000</td>\n",
              "      <td>3160.000000</td>\n",
              "      <td>-15.90000</td>\n",
              "      <td>0.600000</td>\n",
              "      <td>6.940000</td>\n",
              "      <td>9.800000</td>\n",
              "      <td>5790.000000</td>\n",
              "      <td>17.900000</td>\n",
              "      <td>41.300000</td>\n",
              "      <td>10235.000000</td>\n",
              "      <td>-40.000000</td>\n",
              "      <td>0.00</td>\n",
              "      <td>0.0</td>\n",
              "    </tr>\n",
              "    <tr>\n",
              "      <th>3</th>\n",
              "      <td>4.7</td>\n",
              "      <td>3.8</td>\n",
              "      <td>3.7</td>\n",
              "      <td>3.8</td>\n",
              "      <td>2.9</td>\n",
              "      <td>3.1</td>\n",
              "      <td>2.8</td>\n",
              "      <td>2.5</td>\n",
              "      <td>2.4</td>\n",
              "      <td>3.1</td>\n",
              "      <td>3.3</td>\n",
              "      <td>3.1</td>\n",
              "      <td>2.3</td>\n",
              "      <td>2.1</td>\n",
              "      <td>2.2</td>\n",
              "      <td>3.8</td>\n",
              "      <td>2.8</td>\n",
              "      <td>2.4</td>\n",
              "      <td>1.9</td>\n",
              "      <td>3.2</td>\n",
              "      <td>4.1</td>\n",
              "      <td>3.9</td>\n",
              "      <td>4.5</td>\n",
              "      <td>4.3</td>\n",
              "      <td>4.7</td>\n",
              "      <td>3.2</td>\n",
              "      <td>18.3</td>\n",
              "      <td>18.2</td>\n",
              "      <td>18.3</td>\n",
              "      <td>18.4</td>\n",
              "      <td>18.6</td>\n",
              "      <td>18.6</td>\n",
              "      <td>18.5</td>\n",
              "      <td>18.7</td>\n",
              "      <td>18.6</td>\n",
              "      <td>18.8</td>\n",
              "      <td>19.0</td>\n",
              "      <td>19.0</td>\n",
              "      <td>19.3</td>\n",
              "      <td>19.4</td>\n",
              "      <td>19.6</td>\n",
              "      <td>19.2</td>\n",
              "      <td>18.9</td>\n",
              "      <td>18.8</td>\n",
              "      <td>18.6</td>\n",
              "      <td>18.5</td>\n",
              "      <td>18.3</td>\n",
              "      <td>18.5</td>\n",
              "      <td>18.8</td>\n",
              "      <td>18.9</td>\n",
              "      <td>19.6</td>\n",
              "      <td>18.7</td>\n",
              "      <td>9.900000</td>\n",
              "      <td>0.89000</td>\n",
              "      <td>-0.340000</td>\n",
              "      <td>8.580000</td>\n",
              "      <td>1546.50000</td>\n",
              "      <td>3.000000</td>\n",
              "      <td>0.770000</td>\n",
              "      <td>4.170000</td>\n",
              "      <td>8.110000</td>\n",
              "      <td>3145.500000</td>\n",
              "      <td>-16.80000</td>\n",
              "      <td>0.490000</td>\n",
              "      <td>8.730000</td>\n",
              "      <td>10.540000</td>\n",
              "      <td>5775.000000</td>\n",
              "      <td>31.150000</td>\n",
              "      <td>51.700000</td>\n",
              "      <td>10195.000000</td>\n",
              "      <td>-40.000000</td>\n",
              "      <td>2.08</td>\n",
              "      <td>0.0</td>\n",
              "    </tr>\n",
              "    <tr>\n",
              "      <th>4</th>\n",
              "      <td>2.6</td>\n",
              "      <td>2.1</td>\n",
              "      <td>1.6</td>\n",
              "      <td>1.4</td>\n",
              "      <td>0.9</td>\n",
              "      <td>1.5</td>\n",
              "      <td>1.2</td>\n",
              "      <td>1.4</td>\n",
              "      <td>1.3</td>\n",
              "      <td>1.4</td>\n",
              "      <td>2.2</td>\n",
              "      <td>2.0</td>\n",
              "      <td>3.0</td>\n",
              "      <td>3.0</td>\n",
              "      <td>3.1</td>\n",
              "      <td>3.1</td>\n",
              "      <td>2.7</td>\n",
              "      <td>3.0</td>\n",
              "      <td>2.4</td>\n",
              "      <td>2.8</td>\n",
              "      <td>2.5</td>\n",
              "      <td>2.5</td>\n",
              "      <td>3.7</td>\n",
              "      <td>3.4</td>\n",
              "      <td>3.7</td>\n",
              "      <td>2.3</td>\n",
              "      <td>18.8</td>\n",
              "      <td>18.6</td>\n",
              "      <td>18.5</td>\n",
              "      <td>18.5</td>\n",
              "      <td>18.6</td>\n",
              "      <td>18.9</td>\n",
              "      <td>19.2</td>\n",
              "      <td>19.4</td>\n",
              "      <td>19.8</td>\n",
              "      <td>20.5</td>\n",
              "      <td>21.1</td>\n",
              "      <td>21.9</td>\n",
              "      <td>23.8</td>\n",
              "      <td>25.1</td>\n",
              "      <td>25.8</td>\n",
              "      <td>26.0</td>\n",
              "      <td>25.6</td>\n",
              "      <td>24.2</td>\n",
              "      <td>22.9</td>\n",
              "      <td>21.6</td>\n",
              "      <td>20.0</td>\n",
              "      <td>19.5</td>\n",
              "      <td>19.1</td>\n",
              "      <td>19.1</td>\n",
              "      <td>26.0</td>\n",
              "      <td>21.1</td>\n",
              "      <td>13.575298</td>\n",
              "      <td>0.57732</td>\n",
              "      <td>2.136487</td>\n",
              "      <td>1.662464</td>\n",
              "      <td>1531.49426</td>\n",
              "      <td>5.931129</td>\n",
              "      <td>0.406445</td>\n",
              "      <td>5.459634</td>\n",
              "      <td>0.994001</td>\n",
              "      <td>3145.420501</td>\n",
              "      <td>-10.51141</td>\n",
              "      <td>0.304716</td>\n",
              "      <td>9.872418</td>\n",
              "      <td>0.830116</td>\n",
              "      <td>5818.821222</td>\n",
              "      <td>10.511051</td>\n",
              "      <td>37.388335</td>\n",
              "      <td>10164.198442</td>\n",
              "      <td>-0.119949</td>\n",
              "      <td>0.58</td>\n",
              "      <td>0.0</td>\n",
              "    </tr>\n",
              "  </tbody>\n",
              "</table>\n",
              "</div>"
            ],
            "text/plain": [
              "   WSR0  WSR1  WSR2  WSR3  ...           SLP       SLP_  Precp  Result\n",
              "0   0.8   1.8   2.4   2.1  ...  10330.000000 -55.000000   0.00     0.0\n",
              "1   2.8   3.2   3.3   2.7  ...  10275.000000 -55.000000   0.00     0.0\n",
              "2   2.9   2.8   2.6   2.1  ...  10235.000000 -40.000000   0.00     0.0\n",
              "3   4.7   3.8   3.7   3.8  ...  10195.000000 -40.000000   2.08     0.0\n",
              "4   2.6   2.1   1.6   1.4  ...  10164.198442  -0.119949   0.58     0.0\n",
              "\n",
              "[5 rows x 73 columns]"
            ]
          },
          "metadata": {
            "tags": []
          },
          "execution_count": 98
        }
      ]
    },
    {
      "cell_type": "code",
      "metadata": {
        "id": "f8imU37wZn6e",
        "colab": {
          "base_uri": "https://localhost:8080/"
        },
        "outputId": "953b91fb-b8de-4fab-89fd-62c914c4b2c4"
      },
      "source": [
        "# check if NaN values exist\n",
        "if np.nan in df['T_PK'].values.tolist():\n",
        "  print(\"NaN values found\")\n",
        "else:\n",
        "  print(\"No NaN values found\")"
      ],
      "execution_count": null,
      "outputs": [
        {
          "output_type": "stream",
          "text": [
            "No NaN values found\n"
          ],
          "name": "stdout"
        }
      ]
    },
    {
      "cell_type": "code",
      "metadata": {
        "id": "b2AhxKK5Bduy"
      },
      "source": [
        "# Cleaning data using Imputer Class\n",
        "X = imputer.fit_transform(X)"
      ],
      "execution_count": null,
      "outputs": []
    },
    {
      "cell_type": "markdown",
      "metadata": {
        "id": "G3uZ_MmiOpqx"
      },
      "source": [
        "SPLIT THE DATA INTO TRAIN AND TEST SETS"
      ]
    },
    {
      "cell_type": "code",
      "metadata": {
        "id": "3yv4cJhTB2JH"
      },
      "source": [
        "from sklearn.model_selection import train_test_split\n",
        "X_train, X_test, Y_train, Y_test=train_test_split(X,Y,test_size=0.2, random_state=9)"
      ],
      "execution_count": null,
      "outputs": []
    },
    {
      "cell_type": "markdown",
      "metadata": {
        "id": "NCU-c0EW-cRM"
      },
      "source": [
        "VISUALIZATION"
      ]
    },
    {
      "cell_type": "code",
      "metadata": {
        "id": "fnh4xcx1BlOG"
      },
      "source": [
        "import matplotlib.pyplot as plt\n",
        "from mpl_toolkits.mplot3d import Axes3D\n",
        "import matplotlib as mpl\n",
        "import seaborn as sns\n",
        "\n",
        "%matplotlib inline"
      ],
      "execution_count": null,
      "outputs": []
    },
    {
      "cell_type": "code",
      "metadata": {
        "id": "j1ZeQ29byHpG"
      },
      "source": [
        "import pandas as pd\n",
        "import numpy as np\n",
        "import matplotlib.pyplot as plt\n",
        "import seaborn as sns\n",
        "from scipy import stats\n",
        "%matplotlib inline"
      ],
      "execution_count": null,
      "outputs": []
    },
    {
      "cell_type": "code",
      "metadata": {
        "colab": {
          "base_uri": "https://localhost:8080/",
          "height": 413
        },
        "id": "RpH8MpOayMDc",
        "outputId": "00f3ba10-30a2-4ccb-d8b4-e7efe1e5eb1d"
      },
      "source": [
        "# Peak Temperatures Plot\n",
        "fig = plt.figure(figsize = (14,4))\n",
        "title = fig.suptitle(\"Peak Temperatures\", fontsize=14)\n",
        "fig.subplots_adjust(top=0.85, wspace=0.3)\n",
        "\n",
        "# Histogram\n",
        "ax = fig.add_subplot(1,2, 1)\n",
        "ax.set_xlabel(\"Temperature\")\n",
        "ax.set_ylabel(\"Frequency\") \n",
        "ax.text(1.2, 800, r'$\\mu$='+str(round(df['T_PK'].mean(),2)), \n",
        "         fontsize=12)\n",
        "freq, bins, patches = ax.hist(df['T_PK'], color='red', bins=15,\n",
        "                                    edgecolor='black', linewidth=1)\n",
        "\n",
        "\n",
        "# Density Plot\n",
        "ax1 = fig.add_subplot(1,2, 2)\n",
        "ax1.set_xlabel(\"Temperature\")\n",
        "ax1.set_ylabel(\"Frequency\") \n",
        "sns.kdeplot(df['T_PK'], ax=ax1, shade=True, color='red')"
      ],
      "execution_count": null,
      "outputs": [
        {
          "output_type": "execute_result",
          "data": {
            "text/plain": [
              "<matplotlib.axes._subplots.AxesSubplot at 0x7f411fd91e90>"
            ]
          },
          "metadata": {
            "tags": []
          },
          "execution_count": 287
        },
        {
          "output_type": "display_data",
          "data": {
            "image/png": "[encoded data removed]",
            "text/plain": [
              "<Figure size 1008x288 with 2 Axes>"
            ]
          },
          "metadata": {
            "tags": [],
            "needs_background": "light"
          }
        }
      ]
    },
    {
      "cell_type": "code",
      "metadata": {
        "colab": {
          "base_uri": "https://localhost:8080/",
          "height": 479
        },
        "id": "6_5DPXjyzi5Q",
        "outputId": "6ba8199e-cfc8-44e1-9c70-9ca834176190"
      },
      "source": [
        "# Average Temperatures plot\n",
        "fig = plt.figure(figsize = (14,4))\n",
        "title = fig.suptitle(\"Average Temperatures\", fontsize=14)\n",
        "fig.subplots_adjust(top=0.85, wspace=0.3)\n",
        "\n",
        "# Histogram\n",
        "ax = fig.add_subplot(1,2, 1)\n",
        "ax.set_xlabel(\"Temperature\")\n",
        "ax.set_ylabel(\"Frequency\") \n",
        "ax.text(1.2, 800, r'$\\mu$='+str(round(df['T_AV'].mean(),2)), \n",
        "         fontsize=12)\n",
        "freq, bins, patches = ax.hist(df['T_AV'], color='purple', bins=15,\n",
        "                                    edgecolor='black', linewidth=1)\n",
        "\n",
        "\n",
        "# Density Plot\n",
        "ax1 = fig.add_subplot(1,2, 2)\n",
        "ax1.set_xlabel(\"Temperature\")\n",
        "ax1.set_ylabel(\"Frequency\") \n",
        "sns.kdeplot(df['T_PK'], ax=ax1, shade=True, color='purple')"
      ],
      "execution_count": null,
      "outputs": [
        {
          "output_type": "execute_result",
          "data": {
            "text/plain": [
              "<matplotlib.axes._subplots.AxesSubplot at 0x7fa8c4824c90>"
            ]
          },
          "metadata": {
            "tags": []
          },
          "execution_count": 18
        },
        {
          "output_type": "display_data",
          "data": {
            "image/png": "[encoded data removed]",
            "text/plain": [
              "<Figure size 1008x288 with 2 Axes>"
            ]
          },
          "metadata": {
            "tags": [],
            "needs_background": "light"
          }
        }
      ]
    },
    {
      "cell_type": "code",
      "metadata": {
        "colab": {
          "base_uri": "https://localhost:8080/",
          "height": 325
        },
        "id": "j_IMaCyBzlZG",
        "outputId": "1a21d7d5-8581-483d-e82c-44c6f0d759c6"
      },
      "source": [
        "# Peak Wind Speed Plots\n",
        "fig = plt.figure(figsize = (14,4))\n",
        "title = fig.suptitle(\"Peak WSR\", fontsize=14)\n",
        "fig.subplots_adjust(top=0.85, wspace=0.3)\n",
        "\n",
        "# Histogram\n",
        "ax = fig.add_subplot(1,2, 1)\n",
        "ax.set_xlabel(\"Wind Speed\")\n",
        "ax.set_ylabel(\"Frequency\") \n",
        "ax.text(1.2, 750, r'$\\mu$='+str(round(df['WSR_PK'].mean(),2)), \n",
        "         fontsize=12)\n",
        "freq, bins, patches = ax.hist(df['WSR_PK'], color='yellow', bins=15,\n",
        "                                    edgecolor='black', linewidth=1)\n",
        "\n",
        "\n",
        "# Density Plot\n",
        "ax1 = fig.add_subplot(1,2, 2)\n",
        "ax1.set_xlabel(\"Wind Speed\")\n",
        "ax1.set_ylabel(\"Frequency\") \n",
        "sns.kdeplot(df['T_PK'], ax=ax1, shade=True, color='yellow')"
      ],
      "execution_count": null,
      "outputs": [
        {
          "output_type": "execute_result",
          "data": {
            "text/plain": [
              "<matplotlib.axes._subplots.AxesSubplot at 0x7f411f46e6d0>"
            ]
          },
          "metadata": {
            "tags": []
          },
          "execution_count": 296
        },
        {
          "output_type": "display_data",
          "data": {
            "image/png": "[encoded data removed]",
            "text/plain": [
              "<Figure size 1008x288 with 2 Axes>"
            ]
          },
          "metadata": {
            "tags": [],
            "needs_background": "light"
          }
        }
      ]
    },
    {
      "cell_type": "code",
      "metadata": {
        "colab": {
          "base_uri": "https://localhost:8080/",
          "height": 326
        },
        "id": "F8wxyTyyzntr",
        "outputId": "8366cb68-372e-4072-ad55-40908134ba0a"
      },
      "source": [
        "# Average Wind Speed Plots\n",
        "fig = plt.figure(figsize = (14,4))\n",
        "title = fig.suptitle(\"Peak WSR\", fontsize=14)\n",
        "fig.subplots_adjust(top=0.85, wspace=0.3)\n",
        "\n",
        "# Histogram\n",
        "ax = fig.add_subplot(1,2, 1)\n",
        "ax.set_xlabel(\"Wind Speed\")\n",
        "ax.set_ylabel(\"Frequency\") \n",
        "ax.text(1.2, 750, r'$\\mu$='+str(round(df['WSR_AV'].mean(),2)), \n",
        "         fontsize=12)\n",
        "freq, bins, patches = ax.hist(df['WSR_AV'], color='green', bins=15,\n",
        "                                    edgecolor='black', linewidth=1)\n",
        "\n",
        "\n",
        "# Density Plot\n",
        "ax1 = fig.add_subplot(1,2, 2)\n",
        "ax1.set_xlabel(\"Wind Speed\")\n",
        "ax1.set_ylabel(\"Frequency\") \n",
        "sns.kdeplot(df['T_PK'], ax=ax1, shade=True, color='green')"
      ],
      "execution_count": null,
      "outputs": [
        {
          "output_type": "execute_result",
          "data": {
            "text/plain": [
              "<matplotlib.axes._subplots.AxesSubplot at 0x7f411cf3c6d0>"
            ]
          },
          "metadata": {
            "tags": []
          },
          "execution_count": 336
        },
        {
          "output_type": "display_data",
          "data": {
            "image/png": "[encoded data removed]",
            "text/plain": [
              "<Figure size 1008x288 with 2 Axes>"
            ]
          },
          "metadata": {
            "tags": [],
            "needs_background": "light"
          }
        }
      ]
    },
    {
      "cell_type": "code",
      "metadata": {
        "id": "v6PhR2I2ztZ1"
      },
      "source": [
        "# Factorplot\n",
        "# Here we try to establish a relation between Peak temperature and the result.\n",
        "df['ozone_label'] = df['Result'].apply(lambda value: 'Non Ozone Day' if value == 0 else 'Ozone Day')\n",
        "df['ozone_label'] = pd.Categorical(df['ozone_label'], categories=['Non Ozone Day', 'Ozone Day'])"
      ],
      "execution_count": null,
      "outputs": []
    },
    {
      "cell_type": "code",
      "metadata": {
        "colab": {
          "base_uri": "https://localhost:8080/",
          "height": 438
        },
        "id": "R-bRIcYgzv4u",
        "outputId": "f4e26fb5-94eb-41ac-ab5d-5b66ac7e7559"
      },
      "source": [
        "fc = sns.factorplot(x=\"T_AV\", hue=\"Result\", col=\"ozone_label\", \n",
        "                    data=df, kind=\"count\")"
      ],
      "execution_count": null,
      "outputs": [
        {
          "output_type": "stream",
          "text": [
            "/usr/local/lib/python3.7/dist-packages/seaborn/categorical.py:3714: UserWarning: The `factorplot` function has been renamed to `catplot`. The original name will be removed in a future release. Please update your code. Note that the default `kind` in `factorplot` (`'point'`) has changed `'strip'` in `catplot`.\n",
            "  warnings.warn(msg)\n"
          ],
          "name": "stderr"
        },
        {
          "output_type": "display_data",
          "data": {
            "image/png": "[encoded data removed]",
            "text/plain": [
              "<Figure size 771.875x360 with 2 Axes>"
            ]
          },
          "metadata": {
            "tags": [],
            "needs_background": "light"
          }
        }
      ]
    },
    {
      "cell_type": "code",
      "metadata": {
        "colab": {
          "base_uri": "https://localhost:8080/",
          "height": 384
        },
        "id": "xyp-mERnzy1c",
        "outputId": "cef51465-26b6-4af9-b288-af40003c609f"
      },
      "source": [
        "# Relationship among peak and average temperature\n",
        "#Join Plot\n",
        "sns.relplot(x = 'T_PK', y = 'T_AV', data = df)\n",
        "plt.show()"
      ],
      "execution_count": null,
      "outputs": [
        {
          "output_type": "display_data",
          "data": {
            "image/png": "[encoded data removed]",
            "text/plain": [
              "<Figure size 360x360 with 1 Axes>"
            ]
          },
          "metadata": {
            "tags": [],
            "needs_background": "light"
          }
        }
      ]
    },
    {
      "cell_type": "code",
      "metadata": {
        "colab": {
          "base_uri": "https://localhost:8080/",
          "height": 458
        },
        "id": "SsTTFSkiz1OT",
        "outputId": "7d19ab2f-416f-4afa-d7a3-1f7db8cf7e97"
      },
      "source": [
        "sns.jointplot(x = df['T_PK'], y = df['T_AV'], kind = 'kde')"
      ],
      "execution_count": null,
      "outputs": [
        {
          "output_type": "execute_result",
          "data": {
            "text/plain": [
              "<seaborn.axisgrid.JointGrid at 0x7f41141e4bd0>"
            ]
          },
          "metadata": {
            "tags": []
          },
          "execution_count": 344
        },
        {
          "output_type": "display_data",
          "data": {
            "image/png": "[encoded data removed]",
            "text/plain": [
              "<Figure size 432x432 with 3 Axes>"
            ]
          },
          "metadata": {
            "tags": [],
            "needs_background": "light"
          }
        }
      ]
    },
    {
      "cell_type": "code",
      "metadata": {
        "colab": {
          "base_uri": "https://localhost:8080/",
          "height": 384
        },
        "id": "Az1G_Giaz3jj",
        "outputId": "331bb815-7c69-4df9-a13d-a451337cfef4"
      },
      "source": [
        "# Relationship between average and peak wind speed\n",
        "sns.relplot(x = 'WSR_PK', y = 'WSR_AV', data = df)\n",
        "plt.show()"
      ],
      "execution_count": null,
      "outputs": [
        {
          "output_type": "display_data",
          "data": {
            "image/png": "[encoded data removed]",
            "text/plain": [
              "<Figure size 360x360 with 1 Axes>"
            ]
          },
          "metadata": {
            "tags": [],
            "needs_background": "light"
          }
        }
      ]
    },
    {
      "cell_type": "code",
      "metadata": {
        "colab": {
          "base_uri": "https://localhost:8080/",
          "height": 458
        },
        "id": "qvmrXI18z5qc",
        "outputId": "9ee25000-9bb7-4313-ea50-1b844f827102"
      },
      "source": [
        "sns.jointplot(x = df['WSR_PK'], y = df['WSR_AV'], kind = 'kde')"
      ],
      "execution_count": null,
      "outputs": [
        {
          "output_type": "execute_result",
          "data": {
            "text/plain": [
              "<seaborn.axisgrid.JointGrid at 0x7f410e390710>"
            ]
          },
          "metadata": {
            "tags": []
          },
          "execution_count": 409
        },
        {
          "output_type": "display_data",
          "data": {
            "image/png": "[encoded data removed]",
            "text/plain": [
              "<Figure size 432x432 with 3 Axes>"
            ]
          },
          "metadata": {
            "tags": [],
            "needs_background": "light"
          }
        }
      ]
    },
    {
      "cell_type": "code",
      "metadata": {
        "id": "3pt7OXqaz8o9",
        "colab": {
          "base_uri": "https://localhost:8080/",
          "height": 295
        },
        "outputId": "5f76bc36-1e5c-487f-a44b-b82a850a0c20"
      },
      "source": [
        "#Scatter Plot\n",
        "plt.scatter(df.T_AV, df.WSR_AV, 1)\n",
        "plt.title('Average Temperature and Average Wind Speed')\n",
        "plt.xlabel('Average Temperature')\n",
        "plt.ylabel('Average Wind Speed')\n",
        "plt.show()"
      ],
      "execution_count": null,
      "outputs": [
        {
          "output_type": "display_data",
          "data": {
            "image/png": "[encoded data removed]",
            "text/plain": [
              "<Figure size 432x288 with 1 Axes>"
            ]
          },
          "metadata": {
            "tags": [],
            "needs_background": "light"
          }
        }
      ]
    },
    {
      "cell_type": "code",
      "metadata": {
        "id": "6bHdlvD_iOke",
        "colab": {
          "base_uri": "https://localhost:8080/",
          "height": 418
        },
        "outputId": "28d4ceaa-b63c-4e0c-ae0c-410dd0b38399"
      },
      "source": [
        "f, ax = plt.subplots(figsize=(10, 6))\n",
        "subset_attributes = ['WSR_PK','T_PK','T85','T70','RH70','U70','V70','HT70','KI','TT','SLP','SLP_','Precp']\n",
        "corr = df[subset_attributes].corr()\n",
        "hm = sns.heatmap(round(corr,2), annot=True, ax=ax, cmap=\"coolwarm\",fmt='.2f',\n",
        "                 linewidths=.05)\n",
        "f.subplots_adjust(top=0.93)\n",
        "t= f.suptitle('Ozone Level Attributes Correlation Heatmap', fontsize=14)"
      ],
      "execution_count": null,
      "outputs": [
        {
          "output_type": "display_data",
          "data": {
            "image/png": "[encoded data removed]",
            "text/plain": [
              "<Figure size 720x432 with 2 Axes>"
            ]
          },
          "metadata": {
            "tags": [],
            "needs_background": "light"
          }
        }
      ]
    },
    {
      "cell_type": "markdown",
      "metadata": {
        "id": "1t_bj7Qs-nkE"
      },
      "source": [
        "MODEL TRAINING AND TESTING"
      ]
    },
    {
      "cell_type": "code",
      "metadata": {
        "id": "9EEVC1wWe3HA"
      },
      "source": [
        "# Support Vector Machine \n",
        "from sklearn import svm\n",
        "clf = svm.SVC(kernel='sigmoid')\n",
        "clf.fit(X_train, Y_train)\n",
        "Y_pred =clf.predict(X_test)"
      ],
      "execution_count": null,
      "outputs": []
    },
    {
      "cell_type": "code",
      "metadata": {
        "colab": {
          "base_uri": "https://localhost:8080/"
        },
        "id": "9GvqrJXEDiLS",
        "outputId": "72ca7b8d-afee-42aa-98db-9d13c3420539"
      },
      "source": [
        "# Jaccard score\n",
        "from sklearn.metrics import jaccard_score\n",
        "jaccard_score(Y_test,Y_pred,average='macro')"
      ],
      "execution_count": null,
      "outputs": [
        {
          "output_type": "execute_result",
          "data": {
            "text/plain": [
              "0.4714003944773176"
            ]
          },
          "metadata": {
            "tags": []
          },
          "execution_count": 463
        }
      ]
    },
    {
      "cell_type": "code",
      "metadata": {
        "id": "XKpuvsn9frd7",
        "colab": {
          "base_uri": "https://localhost:8080/"
        },
        "outputId": "7380b693-97af-4a93-be19-f448d302ae28"
      },
      "source": [
        "# Accuracy Score\n",
        "from sklearn import metrics\n",
        "print(\"Accuracy:\", metrics.accuracy_score(Y_test,Y_pred))"
      ],
      "execution_count": null,
      "outputs": [
        {
          "output_type": "stream",
          "text": [
            "Accuracy: 0.9428007889546351\n"
          ],
          "name": "stdout"
        }
      ]
    },
    {
      "cell_type": "code",
      "metadata": {
        "colab": {
          "base_uri": "https://localhost:8080/"
        },
        "id": "JgpWWFsk2sQh",
        "outputId": "19ea4275-0d0b-46b8-8864-090c17c843bb"
      },
      "source": [
        "# Average precision score \n",
        "from sklearn.metrics import average_precision_score\n",
        "average_precision_score(Y_test,Y_pred)"
      ],
      "execution_count": null,
      "outputs": [
        {
          "output_type": "execute_result",
          "data": {
            "text/plain": [
              "0.05719921104536489"
            ]
          },
          "metadata": {
            "tags": []
          },
          "execution_count": 466
        }
      ]
    },
    {
      "cell_type": "code",
      "metadata": {
        "colab": {
          "base_uri": "https://localhost:8080/"
        },
        "id": "nox0IiJd3UPp",
        "outputId": "6df1028b-e27a-4692-ca62-841a78e7e2b5"
      },
      "source": [
        "# Roc auc score\n",
        "from sklearn.metrics import roc_auc_score\n",
        "roc_auc_score(Y_test,Y_pred,average='macro')"
      ],
      "execution_count": null,
      "outputs": [
        {
          "output_type": "execute_result",
          "data": {
            "text/plain": [
              "0.5"
            ]
          },
          "metadata": {
            "tags": []
          },
          "execution_count": 467
        }
      ]
    },
    {
      "cell_type": "code",
      "metadata": {
        "id": "2r6uBaJns53O"
      },
      "source": [
        "# K Nearest Neighbour\n",
        "from sklearn.neighbors import KNeighborsClassifier\n",
        "\n",
        "knn = KNeighborsClassifier(n_neighbors=20)\n",
        "\n",
        "knn.fit(X_train, Y_train)\n",
        "\n",
        "Y_pred = knn.predict(X_test)"
      ],
      "execution_count": null,
      "outputs": []
    },
    {
      "cell_type": "code",
      "metadata": {
        "colab": {
          "base_uri": "https://localhost:8080/"
        },
        "id": "lF--D62oODe0",
        "outputId": "b9bff991-212d-4905-bfc7-fa1150265e92"
      },
      "source": [
        "# Jaccard Score \n",
        "from sklearn.metrics import jaccard_score\n",
        "jaccard_score(Y_test,Y_pred,average='macro')"
      ],
      "execution_count": null,
      "outputs": [
        {
          "output_type": "execute_result",
          "data": {
            "text/plain": [
              "0.4714003944773176"
            ]
          },
          "metadata": {
            "tags": []
          },
          "execution_count": 469
        }
      ]
    },
    {
      "cell_type": "code",
      "metadata": {
        "colab": {
          "base_uri": "https://localhost:8080/"
        },
        "id": "IlR_u4ObLKqp",
        "outputId": "cc4d6dd6-207b-4f3f-cde0-0f4c55d2cf9e"
      },
      "source": [
        "# Average precision score\n",
        "from sklearn.metrics import average_precision_score\n",
        "average_precision_score(Y_test,Y_pred)"
      ],
      "execution_count": null,
      "outputs": [
        {
          "output_type": "execute_result",
          "data": {
            "text/plain": [
              "0.05719921104536489"
            ]
          },
          "metadata": {
            "tags": []
          },
          "execution_count": 470
        }
      ]
    },
    {
      "cell_type": "code",
      "metadata": {
        "id": "-6jx2qqptGys",
        "colab": {
          "base_uri": "https://localhost:8080/"
        },
        "outputId": "79ec4dcc-5d85-481c-a2f8-7534b8c69396"
      },
      "source": [
        "# Accuracy score \n",
        "print(\"Accuracy:\",metrics.accuracy_score(Y_test, Y_pred))"
      ],
      "execution_count": null,
      "outputs": [
        {
          "output_type": "stream",
          "text": [
            "Accuracy: 0.9428007889546351\n"
          ],
          "name": "stdout"
        }
      ]
    },
    {
      "cell_type": "code",
      "metadata": {
        "colab": {
          "base_uri": "https://localhost:8080/"
        },
        "id": "IF0dNRiYQYpu",
        "outputId": "99381dd6-535f-4856-caa8-ba440651029b"
      },
      "source": [
        "# Roc auc score\n",
        "from sklearn.metrics import roc_auc_score\n",
        "roc_auc_score(Y_test,Y_pred,average='macro')"
      ],
      "execution_count": null,
      "outputs": [
        {
          "output_type": "execute_result",
          "data": {
            "text/plain": [
              "0.5"
            ]
          },
          "metadata": {
            "tags": []
          },
          "execution_count": 482
        }
      ]
    },
    {
      "cell_type": "code",
      "metadata": {
        "id": "A_8708NVYez3"
      },
      "source": [
        "from sklearn.preprocessing import StandardScaler\n",
        "sc=StandardScaler()\n",
        "X_train=sc.fit_transform(X_train)\n",
        "X_test=sc.fit_transform(X_test)"
      ],
      "execution_count": null,
      "outputs": []
    },
    {
      "cell_type": "code",
      "metadata": {
        "id": "nH-NW92AhGgR"
      },
      "source": [
        "# Extreme gradient Boosting Algorithm\n",
        "import xgboost\n",
        "from xgboost import XGBClassifier\n",
        "xgb= XGBClassifier()\n",
        "xgb.fit(X_train, Y_train)\n",
        "Y_pred = xgb.predict(X_test)"
      ],
      "execution_count": null,
      "outputs": []
    },
    {
      "cell_type": "code",
      "metadata": {
        "colab": {
          "base_uri": "https://localhost:8080/"
        },
        "id": "kFyBdCwCOpDA",
        "outputId": "87a5710f-2d82-4201-f43d-e5fee2c16bb0"
      },
      "source": [
        "# Jaccard score\n",
        "from sklearn.metrics import jaccard_score\n",
        "jaccard_score(Y_test,Y_pred,average='macro')"
      ],
      "execution_count": null,
      "outputs": [
        {
          "output_type": "execute_result",
          "data": {
            "text/plain": [
              "0.5478691295424364"
            ]
          },
          "metadata": {
            "tags": []
          },
          "execution_count": 485
        }
      ]
    },
    {
      "cell_type": "code",
      "metadata": {
        "colab": {
          "base_uri": "https://localhost:8080/"
        },
        "id": "3zXkatUKhyAm",
        "outputId": "c4c8067e-27cd-4082-967d-a3cae6ca02f0"
      },
      "source": [
        "# Accuracy score \n",
        "from sklearn import metrics\n",
        "print(\"Accuracy:\", metrics.accuracy_score(Y_test, Y_pred))"
      ],
      "execution_count": null,
      "outputs": [
        {
          "output_type": "stream",
          "text": [
            "Accuracy: 0.9447731755424064\n"
          ],
          "name": "stdout"
        }
      ]
    },
    {
      "cell_type": "code",
      "metadata": {
        "colab": {
          "base_uri": "https://localhost:8080/"
        },
        "id": "gWS78ifsQJSf",
        "outputId": "894a2d78-cc27-4add-df5f-b47f3fac7b58"
      },
      "source": [
        "# Average precision score \n",
        "from sklearn.metrics import average_precision_score\n",
        "average_precision_score(Y_test,Y_pred)"
      ],
      "execution_count": null,
      "outputs": [
        {
          "output_type": "execute_result",
          "data": {
            "text/plain": [
              "0.14312271871953572"
            ]
          },
          "metadata": {
            "tags": []
          },
          "execution_count": 487
        }
      ]
    },
    {
      "cell_type": "code",
      "metadata": {
        "colab": {
          "base_uri": "https://localhost:8080/"
        },
        "id": "qKFD-MaxQfOY",
        "outputId": "2ffb7753-1c2b-4e66-9715-9dfb07860804"
      },
      "source": [
        "# Roc auc score\n",
        "from sklearn.metrics import roc_auc_score\n",
        "roc_auc_score(Y_test,Y_pred,average='macro')"
      ],
      "execution_count": null,
      "outputs": [
        {
          "output_type": "execute_result",
          "data": {
            "text/plain": [
              "0.5820227961333142"
            ]
          },
          "metadata": {
            "tags": []
          },
          "execution_count": 488
        }
      ]
    },
    {
      "cell_type": "code",
      "metadata": {
        "id": "pRGLdDGhiOc4"
      },
      "source": [
        "# Light Gradient Boosting algorithm  \n",
        "import lightgbm\n",
        "from lightgbm import LGBMClassifier\n",
        "lgbm= LGBMClassifier()\n",
        "lgbm.fit(X_train, Y_train)\n",
        "Y_pred = lgbm.predict(X_test)"
      ],
      "execution_count": null,
      "outputs": []
    },
    {
      "cell_type": "code",
      "metadata": {
        "colab": {
          "base_uri": "https://localhost:8080/"
        },
        "id": "WZMhDd8GOq0T",
        "outputId": "111f82ac-8085-4b04-df1f-019fc7fae452"
      },
      "source": [
        "# Jaccard score\n",
        "from sklearn.metrics import jaccard_score\n",
        "jaccard_score(Y_test,Y_pred,average='macro')"
      ],
      "execution_count": null,
      "outputs": [
        {
          "output_type": "execute_result",
          "data": {
            "text/plain": [
              "0.5346669980119284"
            ]
          },
          "metadata": {
            "tags": []
          },
          "execution_count": 507
        }
      ]
    },
    {
      "cell_type": "code",
      "metadata": {
        "colab": {
          "base_uri": "https://localhost:8080/"
        },
        "id": "hRVG6vuhikHv",
        "outputId": "7ffd7742-254e-42b9-fcc4-04159ac9bca3"
      },
      "source": [
        "# Accuracy score\n",
        "from sklearn import metrics\n",
        "print(\"Accuracy:\", metrics.accuracy_score(Y_test, Y_pred))"
      ],
      "execution_count": null,
      "outputs": [
        {
          "output_type": "stream",
          "text": [
            "Accuracy: 0.9447731755424064\n"
          ],
          "name": "stdout"
        }
      ]
    },
    {
      "cell_type": "code",
      "metadata": {
        "colab": {
          "base_uri": "https://localhost:8080/"
        },
        "id": "d56bIV9KQL_q",
        "outputId": "d70fbf46-5fb0-408a-cab6-d0b075cd84bc"
      },
      "source": [
        "# Average precision score\n",
        "from sklearn.metrics import average_precision_score\n",
        "average_precision_score(Y_test,Y_pred)"
      ],
      "execution_count": null,
      "outputs": [
        {
          "output_type": "execute_result",
          "data": {
            "text/plain": [
              "0.12812739868442785"
            ]
          },
          "metadata": {
            "tags": []
          },
          "execution_count": 509
        }
      ]
    },
    {
      "cell_type": "code",
      "metadata": {
        "colab": {
          "base_uri": "https://localhost:8080/"
        },
        "id": "20oOTjZeQldY",
        "outputId": "210611da-5c30-496c-bbb9-51174878c9f1"
      },
      "source": [
        "# Roc auc score\n",
        "from sklearn.metrics import roc_auc_score\n",
        "roc_auc_score(Y_test,Y_pred,average='macro')"
      ],
      "execution_count": null,
      "outputs": [
        {
          "output_type": "execute_result",
          "data": {
            "text/plain": [
              "0.5658274419275717"
            ]
          },
          "metadata": {
            "tags": []
          },
          "execution_count": 510
        }
      ]
    },
    {
      "cell_type": "code",
      "metadata": {
        "id": "D91Pbn8xivYR"
      },
      "source": [
        "# Enable Histogram Gradient Boosting Algorithm \n",
        "from sklearn.experimental import enable_hist_gradient_boosting\n",
        "from sklearn.ensemble import HistGradientBoostingClassifier\n",
        "hgb= HistGradientBoostingClassifier()\n",
        "hgb.fit(X_train, Y_train)\n",
        "Y_pred =hgb.predict(X_test)"
      ],
      "execution_count": null,
      "outputs": []
    },
    {
      "cell_type": "code",
      "metadata": {
        "colab": {
          "base_uri": "https://localhost:8080/"
        },
        "id": "O5zETXQlOs-y",
        "outputId": "5e89703c-cadd-462f-c48f-495d7d6d1681"
      },
      "source": [
        "# Jaccard score\n",
        "from sklearn.metrics import jaccard_score\n",
        "jaccard_score(Y_test,Y_pred,average='macro')"
      ],
      "execution_count": null,
      "outputs": [
        {
          "output_type": "execute_result",
          "data": {
            "text/plain": [
              "0.5639629831246598"
            ]
          },
          "metadata": {
            "tags": []
          },
          "execution_count": 513
        }
      ]
    },
    {
      "cell_type": "code",
      "metadata": {
        "colab": {
          "base_uri": "https://localhost:8080/"
        },
        "id": "vAv3V7X2i2Sb",
        "outputId": "545812b9-6ae1-453c-d58f-06cc9726390c"
      },
      "source": [
        "# Accuracy score \n",
        "from sklearn import metrics\n",
        "print(\"Accuracy:\", metrics.accuracy_score(Y_test, Y_pred))"
      ],
      "execution_count": null,
      "outputs": [
        {
          "output_type": "stream",
          "text": [
            "Accuracy: 0.9467455621301775\n"
          ],
          "name": "stdout"
        }
      ]
    },
    {
      "cell_type": "code",
      "metadata": {
        "colab": {
          "base_uri": "https://localhost:8080/"
        },
        "id": "N4M-_56IQOPL",
        "outputId": "cb393f83-cb29-460a-c3ba-aac1d38841a2"
      },
      "source": [
        "# Average Precision Score\n",
        "from sklearn.metrics import average_precision_score\n",
        "average_precision_score(Y_test,Y_pred)"
      ],
      "execution_count": null,
      "outputs": [
        {
          "output_type": "execute_result",
          "data": {
            "text/plain": [
              "0.16950282255322044"
            ]
          },
          "metadata": {
            "tags": []
          },
          "execution_count": 515
        }
      ]
    },
    {
      "cell_type": "code",
      "metadata": {
        "colab": {
          "base_uri": "https://localhost:8080/"
        },
        "id": "0eIYV0T7cJF1",
        "outputId": "c1cf6d82-a3f0-4ef0-fe40-5a9ff4e3babe"
      },
      "source": [
        "# Roc auc score\n",
        "from sklearn.metrics import roc_auc_score\n",
        "roc_auc_score(Y_test,Y_pred,average='macro')"
      ],
      "execution_count": null,
      "outputs": [
        {
          "output_type": "execute_result",
          "data": {
            "text/plain": [
              "0.5992641754436588"
            ]
          },
          "metadata": {
            "tags": []
          },
          "execution_count": 516
        }
      ]
    },
    {
      "cell_type": "code",
      "metadata": {
        "id": "NcUTYuN54TiO"
      },
      "source": [
        "# Deep Neural Network  \n",
        "import keras\n",
        "from keras.optimizers import Adam\n",
        "from keras.models import Sequential\n",
        "from keras.layers import Dense, BatchNormalization"
      ],
      "execution_count": null,
      "outputs": []
    },
    {
      "cell_type": "code",
      "metadata": {
        "id": "5pb3XL350RNX",
        "colab": {
          "base_uri": "https://localhost:8080/"
        },
        "outputId": "139f3208-5f1e-4ec3-e0c8-cde02a5bf3cf"
      },
      "source": [
        "initializer = keras.initializers.RandomNormal(mean=0.0, stddev=0.05, seed=42)\n",
        "\n",
        "model = Sequential()\n",
        "model.add(Dense(100, kernel_initializer=initializer, input_dim=72, activation= \"relu\"))\n",
        "model.add(BatchNormalization())\n",
        "model.add(Dense(50, kernel_initializer=initializer, activation= \"relu\"))\n",
        "model.add(BatchNormalization())\n",
        "model.add(Dense(1, kernel_initializer=initializer, activation= \"sigmoid\"))\n",
        "\n",
        "model.summary() "
      ],
      "execution_count": null,
      "outputs": [
        {
          "output_type": "stream",
          "text": [
            "Model: \"sequential_21\"\n",
            "_________________________________________________________________\n",
            "Layer (type)                 Output Shape              Param #   \n",
            "=================================================================\n",
            "dense_63 (Dense)             (None, 100)               7300      \n",
            "_________________________________________________________________\n",
            "batch_normalization_42 (Batc (None, 100)               400       \n",
            "_________________________________________________________________\n",
            "dense_64 (Dense)             (None, 50)                5050      \n",
            "_________________________________________________________________\n",
            "batch_normalization_43 (Batc (None, 50)                200       \n",
            "_________________________________________________________________\n",
            "dense_65 (Dense)             (None, 1)                 51        \n",
            "=================================================================\n",
            "Total params: 13,001\n",
            "Trainable params: 12,701\n",
            "Non-trainable params: 300\n",
            "_________________________________________________________________\n"
          ],
          "name": "stdout"
        }
      ]
    },
    {
      "cell_type": "code",
      "metadata": {
        "id": "Ve8AOhV1355X",
        "colab": {
          "base_uri": "https://localhost:8080/"
        },
        "outputId": "2ae8ce05-64bf-4870-d03d-bb934eb125ca"
      },
      "source": [
        "adam = keras.optimizers.Adam(lr=0.001, beta_1=0.9, beta_2=0.999, epsilon=None, decay=0.0, amsgrad=False)\n",
        "\n",
        "model.compile(loss=\"binary_crossentropy\" , optimizer=adam, metrics=[\"accuracy\"])"
      ],
      "execution_count": null,
      "outputs": [
        {
          "output_type": "stream",
          "text": [
            "/usr/local/lib/python3.7/dist-packages/tensorflow/python/keras/optimizer_v2/optimizer_v2.py:375: UserWarning: The `lr` argument is deprecated, use `learning_rate` instead.\n",
            "  \"The `lr` argument is deprecated, use `learning_rate` instead.\")\n"
          ],
          "name": "stderr"
        }
      ]
    },
    {
      "cell_type": "code",
      "metadata": {
        "id": "dLNYFo8k3-oB",
        "colab": {
          "base_uri": "https://localhost:8080/"
        },
        "outputId": "0e7516a1-aa41-481a-c2ff-70fdaf94e887"
      },
      "source": [
        "# Fit Model\n",
        "history = model.fit(X_train, Y_train, validation_split=0.25, epochs=10, batch_size=16, verbose=1)"
      ],
      "execution_count": null,
      "outputs": [
        {
          "output_type": "stream",
          "text": [
            "Epoch 1/10\n",
            "95/95 [==============================] - 0s 3ms/step - loss: 0.0304 - accuracy: 0.9888 - val_loss: 0.2368 - val_accuracy: 0.9369\n",
            "Epoch 2/10\n",
            "95/95 [==============================] - 0s 3ms/step - loss: 0.0245 - accuracy: 0.9882 - val_loss: 0.2523 - val_accuracy: 0.9448\n",
            "Epoch 3/10\n",
            "95/95 [==============================] - 0s 3ms/step - loss: 0.0144 - accuracy: 0.9954 - val_loss: 0.2353 - val_accuracy: 0.9507\n",
            "Epoch 4/10\n",
            "95/95 [==============================] - 0s 3ms/step - loss: 0.0207 - accuracy: 0.9941 - val_loss: 0.2328 - val_accuracy: 0.9389\n",
            "Epoch 5/10\n",
            "95/95 [==============================] - 0s 3ms/step - loss: 0.0344 - accuracy: 0.9868 - val_loss: 0.3031 - val_accuracy: 0.9428\n",
            "Epoch 6/10\n",
            "95/95 [==============================] - 0s 3ms/step - loss: 0.0228 - accuracy: 0.9914 - val_loss: 0.2991 - val_accuracy: 0.9448\n",
            "Epoch 7/10\n",
            "95/95 [==============================] - 0s 3ms/step - loss: 0.0367 - accuracy: 0.9868 - val_loss: 0.4144 - val_accuracy: 0.9369\n",
            "Epoch 8/10\n",
            "95/95 [==============================] - 0s 3ms/step - loss: 0.0231 - accuracy: 0.9934 - val_loss: 0.2408 - val_accuracy: 0.9408\n",
            "Epoch 9/10\n",
            "95/95 [==============================] - 0s 3ms/step - loss: 0.0189 - accuracy: 0.9934 - val_loss: 0.2127 - val_accuracy: 0.9448\n",
            "Epoch 10/10\n",
            "95/95 [==============================] - 0s 3ms/step - loss: 0.0262 - accuracy: 0.9928 - val_loss: 0.2590 - val_accuracy: 0.9349\n"
          ],
          "name": "stdout"
        }
      ]
    },
    {
      "cell_type": "code",
      "metadata": {
        "colab": {
          "base_uri": "https://localhost:8080/"
        },
        "id": "oiWn3Up1OMek",
        "outputId": "6c242d57-15a4-4dc7-eb62-14e9635495af"
      },
      "source": [
        "model.evaluate(X,Y)"
      ],
      "execution_count": null,
      "outputs": [
        {
          "output_type": "stream",
          "text": [
            "80/80 [==============================] - 0s 2ms/step - loss: 930.2311 - accuracy: 0.9369\n"
          ],
          "name": "stdout"
        },
        {
          "output_type": "execute_result",
          "data": {
            "text/plain": [
              "[930.2311401367188, 0.9368587136268616]"
            ]
          },
          "metadata": {
            "tags": []
          },
          "execution_count": 552
        }
      ]
    }
  ]
}